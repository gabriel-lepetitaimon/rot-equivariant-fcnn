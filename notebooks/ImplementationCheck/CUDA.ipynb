{
 "cells": [
  {
   "cell_type": "code",
   "execution_count": 1,
   "id": "adjustable-cholesterol",
   "metadata": {},
   "outputs": [],
   "source": [
    "import torch\n",
    "import numpy as np\n",
    "import steered_kbase_cpp"
   ]
  },
  {
   "cell_type": "code",
   "execution_count": 2,
   "id": "wanted-tracy",
   "metadata": {},
   "outputs": [],
   "source": [
    "alpha = torch.linspace(0,2*np.pi, 5)\n",
    "out = steered_kbase_cpp.cos_sin_ka(torch.cos(alpha), torch.sin(alpha), torch.cos(alpha), torch.sin(alpha))"
   ]
  },
  {
   "cell_type": "code",
   "execution_count": 4,
   "id": "valuable-penguin",
   "metadata": {},
   "outputs": [
    {
     "data": {
      "text/plain": [
       "tensor([[ 1.0000e+00, -1.0000e+00,  1.0000e+00, -1.0000e+00,  1.0000e+00],\n",
       "        [ 0.0000e+00, -8.7423e-08,  1.7485e-07, -2.3850e-08,  3.4969e-07]])"
      ]
     },
     "execution_count": 4,
     "metadata": {},
     "output_type": "execute_result"
    }
   ],
   "source": [
    "out"
   ]
  },
  {
   "cell_type": "code",
   "execution_count": 6,
   "id": "tired-karaoke",
   "metadata": {},
   "outputs": [
    {
     "data": {
      "text/plain": [
       "tensor([ 0.0000e+00, -8.7423e-08,  1.7485e-07, -2.3850e-08,  3.4969e-07])"
      ]
     },
     "execution_count": 6,
     "metadata": {},
     "output_type": "execute_result"
    }
   ],
   "source": [
    "torch.sin(2*alpha)"
   ]
  }
 ],
 "metadata": {
  "kernelspec": {
   "display_name": "Python 3",
   "language": "python",
   "name": "python3"
  },
  "language_info": {
   "codemirror_mode": {
    "name": "ipython",
    "version": 3
   },
   "file_extension": ".py",
   "mimetype": "text/x-python",
   "name": "python",
   "nbconvert_exporter": "python",
   "pygments_lexer": "ipython3",
   "version": "3.7.4"
  }
 },
 "nbformat": 4,
 "nbformat_minor": 5
}
