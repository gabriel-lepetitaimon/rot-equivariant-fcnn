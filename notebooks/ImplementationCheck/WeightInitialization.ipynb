{
 "cells": [
  {
   "cell_type": "markdown",
   "id": "maritime-karma",
   "metadata": {},
   "source": [
    "#### Includes"
   ]
  },
  {
   "cell_type": "code",
   "execution_count": 1,
   "id": "instructional-chemistry",
   "metadata": {},
   "outputs": [],
   "source": [
    "%load_ext autoreload\n",
    "%autoreload 2"
   ]
  },
  {
   "cell_type": "code",
   "execution_count": 62,
   "id": "surgical-surrey",
   "metadata": {},
   "outputs": [],
   "source": [
    "import numpy as np\n",
    "import torch\n",
    "import torch.nn.functional as F\n",
    "import altair as alt\n",
    "from altair import datum\n",
    "import pandas as pd\n",
    "import time"
   ]
  },
  {
   "cell_type": "code",
   "execution_count": 44,
   "id": "dynamic-thursday",
   "metadata": {},
   "outputs": [],
   "source": [
    "from steered_cnn.utils.rotequivariance_toolbox import *\n",
    "from steered_cnn.steered_conv.steerable_filters import radial_steerable_filter, plot_filter\n",
    "from steered_cnn.steered_conv import SteerableKernelBase"
   ]
  },
  {
   "cell_type": "markdown",
   "id": "0c597f88-fe0d-4bd2-b1e9-f823c5dbd49c",
   "metadata": {},
   "source": [
    "### Implementation Consistency"
   ]
  },
  {
   "cell_type": "code",
   "execution_count": 59,
   "id": "43eeef64-e4fe-4ee1-86f5-8b574fed9230",
   "metadata": {},
   "outputs": [
    {
     "name": "stdout",
     "output_type": "stream",
     "text": [
      "Mean diff: 2.797012825794809e-07, Quantile diff: tensor([2.3842e-07, 3.5763e-07, 5.9605e-07, 1.1921e-06])\n",
      "Mean normed diff: 1.9564754438761156e-06, Quantile normed diff: tensor([1.0951e-07, 2.5203e-07, 5.1362e-07, 1.1555e-06, 1.1284e-05])\n"
     ]
    }
   ],
   "source": [
    "base = SteerableKernelBase.create_from_rk(4, max_k=5)\n",
    "W = base.create_weights(3,3)\n",
    "\n",
    "X = torch.randn((100,3,200,200))\n",
    "Y1 = base.composite_kernels_conv2d(X, W)\n",
    "Y2 = base.preconvolved_base_conv2d(X, W)\n",
    "diff = torch.abs(Y1-Y2)\n",
    "print(f\"Mean diff: {diff.mean()}, Quantile diff: {torch.quantile(diff, torch.Tensor([.5,.75,.9,.99]))}\")\n",
    "diff = torch.abs((Y1-Y2)/Y1)\n",
    "print(f\"Mean normed diff: {diff.mean()}, Quantile normed diff: {torch.quantile(diff, torch.Tensor([.25,.5,.75,.9,.99]))}\")"
   ]
  },
  {
   "cell_type": "markdown",
   "id": "2fd949e4-8871-481a-8e8e-4a6dc71af9e5",
   "metadata": {},
   "source": [
    "### Speed Comparison"
   ]
  },
  {
   "cell_type": "code",
   "execution_count": 89,
   "id": "7e106339-d0c8-48cb-a4d4-84e767c195a4",
   "metadata": {},
   "outputs": [],
   "source": [
    "X = torch.randn((1,3,5,5)).cuda()\n",
    "W = W.cuda()\n",
    "base.conv2d(X, W)\n",
    "\n",
    "def speed_test(X=200, M=32, N=32, R=4, K=5, batchsize=50, iterations=10):\n",
    "    base = SteerableKernelBase.create_from_rk(R, max_k=K)\n",
    "    x = torch.randn((batchsize,M,X,X), requires_grad=True).cuda()\n",
    "    W = base.create_weights(M,N).cuda()\n",
    "    base.conv2d(x, W)\n",
    "    \n",
    "    tf_comp, tf_pre = 0, 0\n",
    "    tb_comp, tb_pre = 0, 0\n",
    "    for i in range(iterations):\n",
    "        x = torch.randn((batchsize,M,X,X), requires_grad=True).cuda()\n",
    "        \n",
    "        t0 = time.perf_counter()\n",
    "        Y = base.composite_kernels_conv2d(x, W)\n",
    "        t1 = time.perf_counter()\n",
    "        tf_comp += t1-t0\n",
    "        Y = Y.sum()\n",
    "        \n",
    "        t0 = time.perf_counter()\n",
    "        Y.backward()\n",
    "        t1 = time.perf_counter()\n",
    "        tb_comp += t1-t0\n",
    "        del Y\n",
    "        \n",
    "        t0 = time.perf_counter()\n",
    "        Y = base.preconvolved_base_conv2d(x, W)\n",
    "        t1 = time.perf_counter()\n",
    "        tf_pre += t1-t0\n",
    "        Y = Y.sum()\n",
    "        \n",
    "        t0 = time.perf_counter()\n",
    "        Y.backward()\n",
    "        t1 = time.perf_counter()\n",
    "        tb_pre += t1-t0\n",
    "        del Y\n",
    "    return tf_comp, tf_pre, tb_comp, tb_pre"
   ]
  },
  {
   "cell_type": "code",
   "execution_count": 93,
   "id": "96e74c09-b270-4ac8-b19f-dd2964442072",
   "metadata": {},
   "outputs": [
    {
     "data": {
      "text/plain": [
       "(0.003889273995810072,\n",
       " 0.005263696997644729,\n",
       " 0.26142607500332815,\n",
       " 0.18343742900106008)"
      ]
     },
     "execution_count": 93,
     "metadata": {},
     "output_type": "execute_result"
    }
   ],
   "source": [
    "speed_test(X=32, M=256, N=500, batchsize=4)"
   ]
  },
  {
   "cell_type": "code",
   "execution_count": null,
   "id": "ab6d8728-777e-4b61-a212-e6c95fae576d",
   "metadata": {},
   "outputs": [],
   "source": []
  }
 ],
 "metadata": {
  "kernelspec": {
   "display_name": "Python 3",
   "language": "python",
   "name": "python3"
  },
  "language_info": {
   "codemirror_mode": {
    "name": "ipython",
    "version": 3
   },
   "file_extension": ".py",
   "mimetype": "text/x-python",
   "name": "python",
   "nbconvert_exporter": "python",
   "pygments_lexer": "ipython3",
   "version": "3.8.5"
  }
 },
 "nbformat": 4,
 "nbformat_minor": 5
}
