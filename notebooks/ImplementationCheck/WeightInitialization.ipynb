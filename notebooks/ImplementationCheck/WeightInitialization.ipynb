{
 "cells": [
  {
   "cell_type": "markdown",
   "id": "antique-carrier",
   "metadata": {},
   "source": [
    "#### Includes"
   ]
  },
  {
   "cell_type": "code",
   "execution_count": null,
   "id": "adjustable-hometown",
   "metadata": {},
   "outputs": [],
   "source": [
    "%load_ext autoreload\n",
    "%autoreload 2"
   ]
  },
  {
   "cell_type": "code",
   "execution_count": 3,
   "id": "standing-tribe",
   "metadata": {},
   "outputs": [
    {
     "ename": "ImportError",
     "evalue": "cannot import name 'get_storage' from 'orion.storage.base' (/home/gaby/.conda/envs/nnet/lib/python3.7/site-packages/orion/storage/base.py)",
     "output_type": "error",
     "traceback": [
      "\u001b[0;31m---------------------------------------------------------------------------\u001b[0m",
      "\u001b[0;31mImportError\u001b[0m                               Traceback (most recent call last)",
      "\u001b[0;32m<ipython-input-3-d589e646cce4>\u001b[0m in \u001b[0;36m<module>\u001b[0;34m\u001b[0m\n\u001b[0;32m----> 1\u001b[0;31m \u001b[0;32mimport\u001b[0m \u001b[0morion\u001b[0m\u001b[0;34m.\u001b[0m\u001b[0mstorage\u001b[0m\u001b[0;34m.\u001b[0m\u001b[0mbase\u001b[0m\u001b[0;34m\u001b[0m\u001b[0;34m\u001b[0m\u001b[0m\n\u001b[0m",
      "\u001b[0;32m~/.conda/envs/nnet/lib/python3.7/site-packages/orion/storage/base.py\u001b[0m in \u001b[0;36m<module>\u001b[0;34m\u001b[0m\n\u001b[1;32m    365\u001b[0m \u001b[0;34m\u001b[0m\u001b[0m\n\u001b[1;32m    366\u001b[0m \u001b[0;31m# pylint: disable=too-few-public-methods,abstract-method\u001b[0m\u001b[0;34m\u001b[0m\u001b[0;34m\u001b[0m\u001b[0;34m\u001b[0m\u001b[0m\n\u001b[0;32m--> 367\u001b[0;31m \u001b[0;32mclass\u001b[0m \u001b[0mStorage\u001b[0m\u001b[0;34m(\u001b[0m\u001b[0mBaseStorageProtocol\u001b[0m\u001b[0;34m,\u001b[0m \u001b[0mmetaclass\u001b[0m\u001b[0;34m=\u001b[0m\u001b[0mSingletonFactory\u001b[0m\u001b[0;34m)\u001b[0m\u001b[0;34m:\u001b[0m\u001b[0;34m\u001b[0m\u001b[0;34m\u001b[0m\u001b[0m\n\u001b[0m\u001b[1;32m    368\u001b[0m     \"\"\"Storage protocol is a generic way of allowing Orion to interface with different storage.\n\u001b[1;32m    369\u001b[0m     \u001b[0mMongoDB\u001b[0m\u001b[0;34m,\u001b[0m \u001b[0mtrack\u001b[0m\u001b[0;34m,\u001b[0m \u001b[0mcometML\u001b[0m\u001b[0;34m,\u001b[0m \u001b[0mMLFLow\u001b[0m\u001b[0;34m,\u001b[0m \u001b[0metc\u001b[0m\u001b[0;34m...\u001b[0m\u001b[0;34m\u001b[0m\u001b[0;34m\u001b[0m\u001b[0m\n",
      "\u001b[0;32m~/.conda/envs/nnet/lib/python3.7/site-packages/orion/core/utils/singleton.py\u001b[0m in \u001b[0;36m__init__\u001b[0;34m(cls, name, bases, dictionary)\u001b[0m\n\u001b[1;32m     42\u001b[0m         \u001b[0mcls\u001b[0m\u001b[0;34m.\u001b[0m\u001b[0minstance\u001b[0m \u001b[0;34m=\u001b[0m \u001b[0;32mNone\u001b[0m\u001b[0;34m\u001b[0m\u001b[0;34m\u001b[0m\u001b[0m\n\u001b[1;32m     43\u001b[0m \u001b[0;34m\u001b[0m\u001b[0m\n\u001b[0;32m---> 44\u001b[0;31m     \u001b[0;32mdef\u001b[0m \u001b[0m__call__\u001b[0m\u001b[0;34m(\u001b[0m\u001b[0mcls\u001b[0m\u001b[0;34m,\u001b[0m \u001b[0;34m*\u001b[0m\u001b[0margs\u001b[0m\u001b[0;34m,\u001b[0m \u001b[0;34m**\u001b[0m\u001b[0mkwargs\u001b[0m\u001b[0;34m)\u001b[0m\u001b[0;34m:\u001b[0m\u001b[0;34m\u001b[0m\u001b[0;34m\u001b[0m\u001b[0m\n\u001b[0m\u001b[1;32m     45\u001b[0m         \u001b[0;34m\"\"\"Create an object if does not already exist, otherwise return what there is.\"\"\"\u001b[0m\u001b[0;34m\u001b[0m\u001b[0;34m\u001b[0m\u001b[0m\n\u001b[1;32m     46\u001b[0m         \u001b[0;32mif\u001b[0m \u001b[0mcls\u001b[0m\u001b[0;34m.\u001b[0m\u001b[0minstance\u001b[0m \u001b[0;32mis\u001b[0m \u001b[0;32mNone\u001b[0m\u001b[0;34m:\u001b[0m\u001b[0;34m\u001b[0m\u001b[0;34m\u001b[0m\u001b[0m\n",
      "\u001b[0;32m~/.conda/envs/nnet/lib/python3.7/site-packages/orion/core/utils/__init__.py\u001b[0m in \u001b[0;36m__init__\u001b[0;34m(cls, names, bases, dictionary)\u001b[0m\n\u001b[1;32m     67\u001b[0m         \u001b[0;32mtry\u001b[0m\u001b[0;34m:\u001b[0m\u001b[0;34m\u001b[0m\u001b[0;34m\u001b[0m\u001b[0m\n\u001b[1;32m     68\u001b[0m             py_files = glob(\n\u001b[0;32m---> 69\u001b[0;31m                 \u001b[0mos\u001b[0m\u001b[0;34m.\u001b[0m\u001b[0mpath\u001b[0m\u001b[0;34m.\u001b[0m\u001b[0mabspath\u001b[0m\u001b[0;34m(\u001b[0m\u001b[0mos\u001b[0m\u001b[0;34m.\u001b[0m\u001b[0mpath\u001b[0m\u001b[0;34m.\u001b[0m\u001b[0mjoin\u001b[0m\u001b[0;34m(\u001b[0m\u001b[0mbase\u001b[0m\u001b[0;34m.\u001b[0m\u001b[0m__path__\u001b[0m\u001b[0;34m[\u001b[0m\u001b[0;36m0\u001b[0m\u001b[0;34m]\u001b[0m\u001b[0;34m,\u001b[0m \u001b[0;34m\"[A-Za-z]*.py\"\u001b[0m\u001b[0;34m)\u001b[0m\u001b[0;34m)\u001b[0m\u001b[0;34m\u001b[0m\u001b[0;34m\u001b[0m\u001b[0m\n\u001b[0m\u001b[1;32m     70\u001b[0m             )\n\u001b[1;32m     71\u001b[0m             py_mods = map(\n",
      "\u001b[0;32m~/.conda/envs/nnet/lib/python3.7/site-packages/pkg_resources/__init__.py\u001b[0m in \u001b[0;36mload\u001b[0;34m(self, require, *args, **kwargs)\u001b[0m\n\u001b[1;32m   2448\u001b[0m         \u001b[0;32mif\u001b[0m \u001b[0mrequire\u001b[0m\u001b[0;34m:\u001b[0m\u001b[0;34m\u001b[0m\u001b[0;34m\u001b[0m\u001b[0m\n\u001b[1;32m   2449\u001b[0m             \u001b[0mself\u001b[0m\u001b[0;34m.\u001b[0m\u001b[0mrequire\u001b[0m\u001b[0;34m(\u001b[0m\u001b[0;34m*\u001b[0m\u001b[0margs\u001b[0m\u001b[0;34m,\u001b[0m \u001b[0;34m**\u001b[0m\u001b[0mkwargs\u001b[0m\u001b[0;34m)\u001b[0m\u001b[0;34m\u001b[0m\u001b[0;34m\u001b[0m\u001b[0m\n\u001b[0;32m-> 2450\u001b[0;31m         \u001b[0;32mreturn\u001b[0m \u001b[0mself\u001b[0m\u001b[0;34m.\u001b[0m\u001b[0mresolve\u001b[0m\u001b[0;34m(\u001b[0m\u001b[0;34m)\u001b[0m\u001b[0;34m\u001b[0m\u001b[0;34m\u001b[0m\u001b[0m\n\u001b[0m\u001b[1;32m   2451\u001b[0m \u001b[0;34m\u001b[0m\u001b[0m\n\u001b[1;32m   2452\u001b[0m     \u001b[0;32mdef\u001b[0m \u001b[0mresolve\u001b[0m\u001b[0;34m(\u001b[0m\u001b[0mself\u001b[0m\u001b[0;34m)\u001b[0m\u001b[0;34m:\u001b[0m\u001b[0;34m\u001b[0m\u001b[0;34m\u001b[0m\u001b[0m\n",
      "\u001b[0;32m~/.conda/envs/nnet/lib/python3.7/site-packages/pkg_resources/__init__.py\u001b[0m in \u001b[0;36mresolve\u001b[0;34m(self)\u001b[0m\n\u001b[1;32m   2454\u001b[0m         \u001b[0mResolve\u001b[0m \u001b[0mthe\u001b[0m \u001b[0mentry\u001b[0m \u001b[0mpoint\u001b[0m \u001b[0;32mfrom\u001b[0m \u001b[0mits\u001b[0m \u001b[0mmodule\u001b[0m \u001b[0;32mand\u001b[0m \u001b[0mattrs\u001b[0m\u001b[0;34m.\u001b[0m\u001b[0;34m\u001b[0m\u001b[0;34m\u001b[0m\u001b[0m\n\u001b[1;32m   2455\u001b[0m         \"\"\"\n\u001b[0;32m-> 2456\u001b[0;31m         \u001b[0mmodule\u001b[0m \u001b[0;34m=\u001b[0m \u001b[0m__import__\u001b[0m\u001b[0;34m(\u001b[0m\u001b[0mself\u001b[0m\u001b[0;34m.\u001b[0m\u001b[0mmodule_name\u001b[0m\u001b[0;34m,\u001b[0m \u001b[0mfromlist\u001b[0m\u001b[0;34m=\u001b[0m\u001b[0;34m[\u001b[0m\u001b[0;34m'__name__'\u001b[0m\u001b[0;34m]\u001b[0m\u001b[0;34m,\u001b[0m \u001b[0mlevel\u001b[0m\u001b[0;34m=\u001b[0m\u001b[0;36m0\u001b[0m\u001b[0;34m)\u001b[0m\u001b[0;34m\u001b[0m\u001b[0;34m\u001b[0m\u001b[0m\n\u001b[0m\u001b[1;32m   2457\u001b[0m         \u001b[0;32mtry\u001b[0m\u001b[0;34m:\u001b[0m\u001b[0;34m\u001b[0m\u001b[0;34m\u001b[0m\u001b[0m\n\u001b[1;32m   2458\u001b[0m             \u001b[0;32mreturn\u001b[0m \u001b[0mfunctools\u001b[0m\u001b[0;34m.\u001b[0m\u001b[0mreduce\u001b[0m\u001b[0;34m(\u001b[0m\u001b[0mgetattr\u001b[0m\u001b[0;34m,\u001b[0m \u001b[0mself\u001b[0m\u001b[0;34m.\u001b[0m\u001b[0mattrs\u001b[0m\u001b[0;34m,\u001b[0m \u001b[0mmodule\u001b[0m\u001b[0;34m)\u001b[0m\u001b[0;34m\u001b[0m\u001b[0;34m\u001b[0m\u001b[0m\n",
      "\u001b[0;32m~/.conda/envs/nnet/lib/python3.7/site-packages/orion/storage/legacy.py\u001b[0m in \u001b[0;36m<module>\u001b[0;34m\u001b[0m\n\u001b[1;32m     16\u001b[0m \u001b[0;32mfrom\u001b[0m \u001b[0morion\u001b[0m\u001b[0;34m.\u001b[0m\u001b[0mcore\u001b[0m\u001b[0;34m.\u001b[0m\u001b[0mio\u001b[0m\u001b[0;34m.\u001b[0m\u001b[0mdatabase\u001b[0m \u001b[0;32mimport\u001b[0m \u001b[0mDatabase\u001b[0m\u001b[0;34m,\u001b[0m \u001b[0mOutdatedDatabaseError\u001b[0m\u001b[0;34m\u001b[0m\u001b[0;34m\u001b[0m\u001b[0m\n\u001b[1;32m     17\u001b[0m \u001b[0;32mfrom\u001b[0m \u001b[0morion\u001b[0m\u001b[0;34m.\u001b[0m\u001b[0mcore\u001b[0m\u001b[0;34m.\u001b[0m\u001b[0mutils\u001b[0m\u001b[0;34m.\u001b[0m\u001b[0mexceptions\u001b[0m \u001b[0;32mimport\u001b[0m \u001b[0mMissingResultFile\u001b[0m\u001b[0;34m\u001b[0m\u001b[0;34m\u001b[0m\u001b[0m\n\u001b[0;32m---> 18\u001b[0;31m \u001b[0;32mfrom\u001b[0m \u001b[0morion\u001b[0m\u001b[0;34m.\u001b[0m\u001b[0mcore\u001b[0m\u001b[0;34m.\u001b[0m\u001b[0mworker\u001b[0m\u001b[0;34m.\u001b[0m\u001b[0mtrial\u001b[0m \u001b[0;32mimport\u001b[0m \u001b[0mTrial\u001b[0m\u001b[0;34m,\u001b[0m \u001b[0mvalidate_status\u001b[0m\u001b[0;34m\u001b[0m\u001b[0;34m\u001b[0m\u001b[0m\n\u001b[0m\u001b[1;32m     19\u001b[0m from orion.storage.base import (\n\u001b[1;32m     20\u001b[0m     \u001b[0mBaseStorageProtocol\u001b[0m\u001b[0;34m,\u001b[0m\u001b[0;34m\u001b[0m\u001b[0;34m\u001b[0m\u001b[0m\n",
      "\u001b[0;32m~/.conda/envs/nnet/lib/python3.7/site-packages/orion/core/worker/__init__.py\u001b[0m in \u001b[0;36m<module>\u001b[0;34m\u001b[0m\n\u001b[1;32m     12\u001b[0m \u001b[0;32mfrom\u001b[0m \u001b[0morion\u001b[0m\u001b[0;34m.\u001b[0m\u001b[0mcore\u001b[0m\u001b[0;34m.\u001b[0m\u001b[0mutils\u001b[0m\u001b[0;34m.\u001b[0m\u001b[0mexceptions\u001b[0m \u001b[0;32mimport\u001b[0m \u001b[0mWaitingForTrials\u001b[0m\u001b[0;34m\u001b[0m\u001b[0;34m\u001b[0m\u001b[0m\n\u001b[1;32m     13\u001b[0m \u001b[0;32mfrom\u001b[0m \u001b[0morion\u001b[0m\u001b[0;34m.\u001b[0m\u001b[0mcore\u001b[0m\u001b[0;34m.\u001b[0m\u001b[0mutils\u001b[0m\u001b[0;34m.\u001b[0m\u001b[0mformat_terminal\u001b[0m \u001b[0;32mimport\u001b[0m \u001b[0mformat_stats\u001b[0m\u001b[0;34m\u001b[0m\u001b[0;34m\u001b[0m\u001b[0m\n\u001b[0;32m---> 14\u001b[0;31m \u001b[0;32mfrom\u001b[0m \u001b[0morion\u001b[0m\u001b[0;34m.\u001b[0m\u001b[0mcore\u001b[0m\u001b[0;34m.\u001b[0m\u001b[0mworker\u001b[0m\u001b[0;34m.\u001b[0m\u001b[0mconsumer\u001b[0m \u001b[0;32mimport\u001b[0m \u001b[0mConsumer\u001b[0m\u001b[0;34m\u001b[0m\u001b[0;34m\u001b[0m\u001b[0m\n\u001b[0m\u001b[1;32m     15\u001b[0m \u001b[0;32mfrom\u001b[0m \u001b[0morion\u001b[0m\u001b[0;34m.\u001b[0m\u001b[0mcore\u001b[0m\u001b[0;34m.\u001b[0m\u001b[0mworker\u001b[0m\u001b[0;34m.\u001b[0m\u001b[0mproducer\u001b[0m \u001b[0;32mimport\u001b[0m \u001b[0mProducer\u001b[0m\u001b[0;34m\u001b[0m\u001b[0;34m\u001b[0m\u001b[0m\n\u001b[1;32m     16\u001b[0m \u001b[0;34m\u001b[0m\u001b[0m\n",
      "\u001b[0;32m~/.conda/envs/nnet/lib/python3.7/site-packages/orion/core/worker/consumer.py\u001b[0m in \u001b[0;36m<module>\u001b[0;34m\u001b[0m\n\u001b[1;32m     19\u001b[0m \u001b[0;32mfrom\u001b[0m \u001b[0morion\u001b[0m\u001b[0;34m.\u001b[0m\u001b[0mcore\u001b[0m\u001b[0;34m.\u001b[0m\u001b[0mutils\u001b[0m\u001b[0;34m.\u001b[0m\u001b[0mexceptions\u001b[0m \u001b[0;32mimport\u001b[0m \u001b[0mBranchingEvent\u001b[0m\u001b[0;34m,\u001b[0m \u001b[0mInexecutableUserScript\u001b[0m\u001b[0;34m\u001b[0m\u001b[0;34m\u001b[0m\u001b[0m\n\u001b[1;32m     20\u001b[0m \u001b[0;32mfrom\u001b[0m \u001b[0morion\u001b[0m\u001b[0;34m.\u001b[0m\u001b[0mcore\u001b[0m\u001b[0;34m.\u001b[0m\u001b[0mutils\u001b[0m\u001b[0;34m.\u001b[0m\u001b[0mworking_dir\u001b[0m \u001b[0;32mimport\u001b[0m \u001b[0mWorkingDir\u001b[0m\u001b[0;34m\u001b[0m\u001b[0;34m\u001b[0m\u001b[0m\n\u001b[0;32m---> 21\u001b[0;31m \u001b[0;32mfrom\u001b[0m \u001b[0morion\u001b[0m\u001b[0;34m.\u001b[0m\u001b[0mcore\u001b[0m\u001b[0;34m.\u001b[0m\u001b[0mworker\u001b[0m\u001b[0;34m.\u001b[0m\u001b[0mtrial_pacemaker\u001b[0m \u001b[0;32mimport\u001b[0m \u001b[0mTrialPacemaker\u001b[0m\u001b[0;34m\u001b[0m\u001b[0;34m\u001b[0m\u001b[0m\n\u001b[0m\u001b[1;32m     22\u001b[0m \u001b[0;34m\u001b[0m\u001b[0m\n\u001b[1;32m     23\u001b[0m \u001b[0mlog\u001b[0m \u001b[0;34m=\u001b[0m \u001b[0mlogging\u001b[0m\u001b[0;34m.\u001b[0m\u001b[0mgetLogger\u001b[0m\u001b[0;34m(\u001b[0m\u001b[0m__name__\u001b[0m\u001b[0;34m)\u001b[0m\u001b[0;34m\u001b[0m\u001b[0;34m\u001b[0m\u001b[0m\n",
      "\u001b[0;32m~/.conda/envs/nnet/lib/python3.7/site-packages/orion/core/worker/trial_pacemaker.py\u001b[0m in \u001b[0;36m<module>\u001b[0;34m\u001b[0m\n\u001b[1;32m      9\u001b[0m \u001b[0;32mimport\u001b[0m \u001b[0mthreading\u001b[0m\u001b[0;34m\u001b[0m\u001b[0;34m\u001b[0m\u001b[0m\n\u001b[1;32m     10\u001b[0m \u001b[0;34m\u001b[0m\u001b[0m\n\u001b[0;32m---> 11\u001b[0;31m \u001b[0;32mfrom\u001b[0m \u001b[0morion\u001b[0m\u001b[0;34m.\u001b[0m\u001b[0mstorage\u001b[0m\u001b[0;34m.\u001b[0m\u001b[0mbase\u001b[0m \u001b[0;32mimport\u001b[0m \u001b[0mget_storage\u001b[0m\u001b[0;34m\u001b[0m\u001b[0;34m\u001b[0m\u001b[0m\n\u001b[0m\u001b[1;32m     12\u001b[0m \u001b[0;34m\u001b[0m\u001b[0m\n\u001b[1;32m     13\u001b[0m \u001b[0mSTOPPED_STATUS\u001b[0m \u001b[0;34m=\u001b[0m \u001b[0;34m{\u001b[0m\u001b[0;34m\"completed\"\u001b[0m\u001b[0;34m,\u001b[0m \u001b[0;34m\"interrupted\"\u001b[0m\u001b[0;34m,\u001b[0m \u001b[0;34m\"suspended\"\u001b[0m\u001b[0;34m}\u001b[0m\u001b[0;34m\u001b[0m\u001b[0;34m\u001b[0m\u001b[0m\n",
      "\u001b[0;31mImportError\u001b[0m: cannot import name 'get_storage' from 'orion.storage.base' (/home/gaby/.conda/envs/nnet/lib/python3.7/site-packages/orion/storage/base.py)"
     ]
    }
   ],
   "source": [
    "import orion.storage.base"
   ]
  },
  {
   "cell_type": "code",
   "execution_count": null,
   "id": "pleased-relationship",
   "metadata": {},
   "outputs": [],
   "source": [
    "import numpy as np\n",
    "import torch\n",
    "import torch.nn.functional as F\n",
    "import altair as alt\n",
    "from altair import datum\n",
    "import pandas as pd\n",
    "\n",
    "import sys"
   ]
  },
  {
   "cell_type": "code",
   "execution_count": null,
   "id": "radio-procedure",
   "metadata": {},
   "outputs": [],
   "source": [
    "sys.path.insert(0, '../../')\n",
    "from lib.utils.rotequivariance_toolbox import *\n",
    "from lib.steered_conv.steerable_filters import radial_steerable_filter, plot_filter\n",
    "from lib.steered_conv import SteerableKernelBase\n",
    "from lib.models import SteeredHemelingNet, HemelingNet\n",
    "from experiments.trainer import BinaryClassifierNet\n",
    "from experiments import load_dataset, parse_config, setup_model"
   ]
  },
  {
   "cell_type": "markdown",
   "id": "logical-locking",
   "metadata": {},
   "source": [
    "## Spatial Homogeneity"
   ]
  },
  {
   "cell_type": "code",
   "execution_count": null,
   "id": "magnetic-dictionary",
   "metadata": {},
   "outputs": [],
   "source": [
    "base = SteerableKernelBase.create_from_rk(4, max_k=5)\n",
    "\n",
    "x = torch.linspace(-1, 1, 3)\n",
    "x,y = torch.meshgrid(x,x)\n",
    "d = torch.sqrt(x**2+y**2)\n",
    "std = 1\n",
    "G = torch.exp(-d**2/(2*std**2))\n",
    "G /= G.sum()\n",
    "\n",
    "k = 7\n",
    "x = torch.linspace(-k/2, k/2, k)\n",
    "x,y = torch.meshgrid(x,x)\n",
    "d = torch.maximum(torch.sqrt(x**2+y**2)-k//2, torch.Tensor([0]))\n",
    "window =  torch.exp(-torch.square(d)*2)\n",
    "\n",
    "K = torch.randn((2000,1,k,k)) \n",
    "K = torch.conv2d(K, G[None, None], padding=1)\n",
    "K = K * window\n",
    "\n",
    "info = {}\n",
    "W = base.approximate_weights(K, info, ridge_alpha=1e-3)\n",
    "print(f'mse:{info[\"mse\"]:.3f}, r2:{info[\"r2\"]:.3f}')"
   ]
  },
  {
   "cell_type": "code",
   "execution_count": null,
   "id": "continuing-fellow",
   "metadata": {},
   "outputs": [],
   "source": [
    "w_df = pd.DataFrame(data=base.weights_dist(W, Q=5))\n",
    "w_df"
   ]
  },
  {
   "cell_type": "code",
   "execution_count": null,
   "id": "respective-bedroom",
   "metadata": {},
   "outputs": [],
   "source": [
    "chart = alt.Chart(w_df)\n",
    "layered = alt.LayerChart()\n",
    "for real in [True, False]:\n",
    "    layered += chart.mark_tick(\n",
    "                        thickness=2,\n",
    "                        width=10,\n",
    "                        xOffset=-5 if real else 5\n",
    "                    ).encode(\n",
    "                        alt.X('r:N'), alt.Y('median:Q', scale=alt.Scale(type='symlog')), \n",
    "                        alt.Color('type:N')\n",
    "                    ).transform_filter(datum.type== ('R' if real else 'I') )\n",
    "    layered += chart.mark_bar(\n",
    "                        opacity=.2, \n",
    "                        width=10, \n",
    "                        xOffset=-5 if real else 5\n",
    "                 ).encode(\n",
    "                    alt.X('r:N'), alt.Y('-q1:Q'), alt.Y2('q1:Q'), \n",
    "                    alt.Color('type:N')\n",
    "                  ).properties(width=80).transform_filter(datum.type== ('R' if real else 'I') )\n",
    "    layered += chart.mark_bar(\n",
    "                        opacity=.8, \n",
    "                        width=10, \n",
    "                        xOffset=-5 if real else 5\n",
    "                 ).encode(\n",
    "                    alt.X('r:N'), alt.Y('-q2:Q'), alt.Y2('q2:Q'), \n",
    "                    alt.Color('type:N')\n",
    "                  ).properties(width=80).transform_filter(datum.type== ('R' if real else 'I') )\n",
    "layered.facet('k:O').resolve_scale(x='independent').interactive()"
   ]
  },
  {
   "cell_type": "code",
   "execution_count": null,
   "id": "changing-conducting",
   "metadata": {},
   "outputs": [],
   "source": [
    "h, w = 15, 15\n",
    "I = torch.zeros((1,1,h,w))\n",
    "I[0,0,h//2,w//2] = 1\n",
    "W1 = torch.ones(W.shape)\n",
    "plot_filter(base.conv2d(I, W1)[0,0])"
   ]
  },
  {
   "cell_type": "code",
   "execution_count": null,
   "id": "independent-blink",
   "metadata": {},
   "outputs": [],
   "source": [
    "O = base.conv2d(I, W1)[0,0]\n",
    "O.max()"
   ]
  },
  {
   "cell_type": "markdown",
   "id": "novel-family",
   "metadata": {},
   "source": [
    "## Variance conservation"
   ]
  },
  {
   "cell_type": "code",
   "execution_count": null,
   "id": "copyrighted-visit",
   "metadata": {},
   "outputs": [],
   "source": [
    "def plot_variance(net):\n",
    "    N_CONV = 9\n",
    "    # Prepare hooks\n",
    "    forward_tensors = {}\n",
    "    backward_tensors = {}\n",
    "\n",
    "    def store_forward(name):\n",
    "        def hook(self, input, output):\n",
    "            forward_tensors[name+'-in'] = input\n",
    "            forward_tensors[name+'-out'] = output\n",
    "        return hook\n",
    "\n",
    "    def store_backward(name):\n",
    "        def hook(self, grad_input, grad_output):\n",
    "            backward_tensors[name+'-in'] = grad_input\n",
    "            backward_tensors[name+'-out'] = grad_output\n",
    "        return hook\n",
    "    \n",
    "    # Register hooks\n",
    "    hooks = []\n",
    "    for i in range(1,N_CONV):\n",
    "        name = f'conv{i}'\n",
    "        hooks += [getattr(net, name)[0].register_forward_hook(store_forward(name)),\n",
    "                  getattr(net, name)[0].register_backward_hook(store_backward(name))]\n",
    "        \n",
    "    # Do forward and backward pass with noise\n",
    "    I = torch.randn((5,1,500,500)).cuda()\n",
    "    angle = (torch.rand((5,500,500)).cuda()-.5)*2*np.pi\n",
    "    out = net(I, alpha=angle)\n",
    "    loss = F.binary_cross_entropy_with_logits(out, torch.randint(1, (5,1,496,496)).float().cuda())\n",
    "    loss.backward()\n",
    "    \n",
    "    # Compute means and variances\n",
    "    data = []\n",
    "    for i in range(1,N_CONV):\n",
    "        name = f'conv{i}'\n",
    "        for input in [True, False]:\n",
    "            d = {}\n",
    "            d['name'] = name\n",
    "            d['type'] = 'in' if input else 'out'\n",
    "\n",
    "            n = name + ('-in' if input else '-out')\n",
    "            forward = forward_tensors[n][0].detach()\n",
    "            backward = backward_tensors[n][0].detach()\n",
    "\n",
    "            mean = forward.mean().cpu().numpy()\n",
    "            std = forward.std().cpu().numpy()\n",
    "            d['forward_mean'] = mean\n",
    "            d['forward_y'] = mean-std\n",
    "            d['forward_y2'] = mean+std\n",
    "\n",
    "            mean = backward.mean().cpu().numpy()\n",
    "            std = backward.std().cpu().numpy()\n",
    "            d['backward_mean'] = mean\n",
    "            d['backward_y'] = mean-std\n",
    "            d['backward_y2'] = mean+std\n",
    "\n",
    "            data += [d]\n",
    "    dist_df = pd.DataFrame(data=data)\n",
    "    \n",
    "    # Plot\n",
    "    chart = alt.Chart(dist_df)\n",
    "    def plot_dist(back=False):\n",
    "        n = 'forward_' if not back else 'backward_'\n",
    "        layered = alt.LayerChart()\n",
    "        layered += chart.mark_tick(\n",
    "                            thickness=2,\n",
    "                            width=15,\n",
    "                        ).encode(\n",
    "                            alt.X('type:N'), alt.Y(n+'mean:Q', scale=alt.Scale(type='symlog')), \n",
    "                            alt.Color('type:N')\n",
    "                        )\n",
    "        layered += chart.mark_bar(\n",
    "                            opacity=.2, \n",
    "                            width=15,\n",
    "                     ).encode(\n",
    "                        alt.X('type:N'), alt.Y(n+'y:Q'), alt.Y2(n+'y2:Q'), \n",
    "                        alt.Color('type:N')\n",
    "                      ).properties(width=30)\n",
    "        layered = layered.facet('name:O').resolve_scale(x='independent').interactive()\n",
    "        layered.properties(title='Backward Variance' if back else 'Forward Variance')\n",
    "        return layered\n",
    "\n",
    "    # Remove hooks\n",
    "    for hook in hooks:\n",
    "        hook.remove()\n",
    "\n",
    "    return (plot_dist(False)|plot_dist(True))"
   ]
  },
  {
   "cell_type": "code",
   "execution_count": null,
   "id": "lined-mathematics",
   "metadata": {},
   "outputs": [],
   "source": [
    "plot_variance(HemelingNet(1, 1, padding='same', batchnorm=False).cuda())"
   ]
  },
  {
   "cell_type": "code",
   "execution_count": null,
   "id": "becoming-affiliate",
   "metadata": {},
   "outputs": [],
   "source": [
    "plot_variance(SteeredHemelingNet(1, 1, padding='same', batchnorm=False).cuda())"
   ]
  },
  {
   "cell_type": "code",
   "execution_count": null,
   "id": "diagnostic-belle",
   "metadata": {},
   "outputs": [],
   "source": []
  }
 ],
 "metadata": {
  "kernelspec": {
   "display_name": "Python 3",
   "language": "python",
   "name": "python3"
  },
  "language_info": {
   "codemirror_mode": {
    "name": "ipython",
    "version": 3
   },
   "file_extension": ".py",
   "mimetype": "text/x-python",
   "name": "python",
   "nbconvert_exporter": "python",
   "pygments_lexer": "ipython3",
   "version": "3.7.4"
  }
 },
 "nbformat": 4,
 "nbformat_minor": 5
}
