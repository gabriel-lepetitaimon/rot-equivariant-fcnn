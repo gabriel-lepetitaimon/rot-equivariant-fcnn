{
 "cells": [
  {
   "cell_type": "code",
   "execution_count": 1,
   "id": "biblical-liberty",
   "metadata": {},
   "outputs": [],
   "source": [
    "%load_ext autoreload\n",
    "%autoreload 2"
   ]
  },
  {
   "cell_type": "code",
   "execution_count": 2,
   "id": "quick-hundred",
   "metadata": {},
   "outputs": [
    {
     "ename": "ModuleNotFoundError",
     "evalue": "No module named 'junno'",
     "output_type": "error",
     "traceback": [
      "\u001B[0;31m---------------------------------------------------------------------------\u001B[0m",
      "\u001B[0;31mModuleNotFoundError\u001B[0m                       Traceback (most recent call last)",
      "\u001B[0;32m<ipython-input-2-58e2dd213f93>\u001B[0m in \u001B[0;36m<module>\u001B[0;34m\u001B[0m\n\u001B[0;32m----> 1\u001B[0;31m \u001B[0;32mfrom\u001B[0m \u001B[0mjunno\u001B[0m \u001B[0;32mimport\u001B[0m \u001B[0mlog\u001B[0m\u001B[0;34m\u001B[0m\u001B[0;34m\u001B[0m\u001B[0m\n\u001B[0m\u001B[1;32m      2\u001B[0m \u001B[0mlog\u001B[0m\u001B[0;34m\u001B[0m\u001B[0;34m\u001B[0m\u001B[0m\n\u001B[1;32m      3\u001B[0m \u001B[0;34m\u001B[0m\u001B[0m\n",
      "\u001B[0;31mModuleNotFoundError\u001B[0m: No module named 'junno'"
     ]
    }
   ],
   "source": [
    "from junno import log\n",
    "log"
   ]
  },
  {
   "cell_type": "code",
   "execution_count": null,
   "id": "biblical-firmware",
   "metadata": {},
   "outputs": [],
   "source": [
    "from ...experiments.datasets import load_dataset\n",
    "import junno.datasets as D\n",
    "import numpy as np\n"
   ]
  },
  {
   "cell_type": "code",
   "execution_count": null,
   "outputs": [],
   "source": [
    "train, val, test = load_dataset()"
   ],
   "metadata": {
    "collapsed": false,
    "pycharm": {
     "name": "#%%\n"
    }
   }
  },
  {
   "cell_type": "code",
   "execution_count": null,
   "id": "instrumental-damages",
   "metadata": {},
   "outputs": [],
   "source": [
    "data = {'x':[], 'y':[], 'mask': [], 'angle': []}\n",
    "for i, d in enumerate(train):\n",
    "    for k in data.keys():\n",
    "        data[k].append(d[k].numpy())\n",
    "    if i>=16:\n",
    "        break\n",
    "data = {k: np.concatenate(v) for k,v in data.items()}\n"
   ]
  },
  {
   "cell_type": "code",
   "execution_count": null,
   "id": "cultural-wages",
   "metadata": {},
   "outputs": [],
   "source": [
    "def angle2field(angle):\n",
    "    return np.stack([np.cos(angle), np.sin(angle)])[:,0]\n",
    "dataset = D.from_numpy(**data).apply('raw', lambda x: x[3:]).apply('princ_dir', angle2field, format='Field')\n",
    "dataset.col['princ_dir'].format.background = 'raw'\n",
    "dataset.col"
   ]
  },
  {
   "cell_type": "code",
   "execution_count": null,
   "id": "handled-lodge",
   "metadata": {},
   "outputs": [],
   "source": [
    "dataset.col['angle'].format"
   ]
  },
  {
   "cell_type": "code",
   "execution_count": null,
   "id": "quick-rough",
   "metadata": {},
   "outputs": [],
   "source": [
    "dataset.reshape('princ_dir,raw', 128).at[:4, 'princ_dir,raw']"
   ]
  },
  {
   "cell_type": "code",
   "execution_count": null,
   "id": "least-contact",
   "metadata": {},
   "outputs": [],
   "source": [
    "dataset"
   ]
  }
 ],
 "metadata": {
  "kernelspec": {
   "display_name": "Python 3",
   "language": "python",
   "name": "python3"
  },
  "language_info": {
   "codemirror_mode": {
    "name": "ipython",
    "version": 3
   },
   "file_extension": ".py",
   "mimetype": "text/x-python",
   "name": "python",
   "nbconvert_exporter": "python",
   "pygments_lexer": "ipython3",
   "version": "3.7.4"
  },
  "latex_envs": {
   "LaTeX_envs_menu_present": true,
   "autoclose": false,
   "autocomplete": true,
   "bibliofile": "biblio.bib",
   "cite_by": "apalike",
   "current_citInitial": 1,
   "eqLabelWithNumbers": true,
   "eqNumInitial": 1,
   "hotkeys": {
    "equation": "Ctrl-E",
    "itemize": "Ctrl-I"
   },
   "labels_anchors": false,
   "latex_user_defs": false,
   "report_style_numbering": false,
   "user_envs_cfg": false
  },
  "varInspector": {
   "cols": {
    "lenName": 16,
    "lenType": 16,
    "lenVar": 40
   },
   "kernels_config": {
    "python": {
     "delete_cmd_postfix": "",
     "delete_cmd_prefix": "del ",
     "library": "var_list.py",
     "varRefreshCmd": "print(var_dic_list())"
    },
    "r": {
     "delete_cmd_postfix": ") ",
     "delete_cmd_prefix": "rm(",
     "library": "var_list.r",
     "varRefreshCmd": "cat(var_dic_list()) "
    }
   },
   "types_to_exclude": [
    "module",
    "function",
    "builtin_function_or_method",
    "instance",
    "_Feature"
   ],
   "window_display": false
  }
 },
 "nbformat": 4,
 "nbformat_minor": 5
}