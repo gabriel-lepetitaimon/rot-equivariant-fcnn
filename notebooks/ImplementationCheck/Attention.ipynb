{
 "cells": [
  {
   "cell_type": "markdown",
   "id": "maritime-karma",
   "metadata": {},
   "source": [
    "#### Includes"
   ]
  },
  {
   "cell_type": "code",
   "execution_count": 1,
   "id": "instructional-chemistry",
   "metadata": {},
   "outputs": [],
   "source": [
    "%load_ext autoreload\n",
    "%autoreload 2"
   ]
  },
  {
   "cell_type": "code",
   "execution_count": 2,
   "id": "surgical-surrey",
   "metadata": {},
   "outputs": [],
   "source": [
    "import numpy as np\n",
    "import torch\n",
    "import torch.nn.functional as F\n",
    "import altair as alt\n",
    "from altair import datum\n",
    "import time\n",
    "import pandas as pd\n",
    "import matplotlib.pyplot as plt\n",
    "plt.rcParams[\"figure.figsize\"] = (18, 5)"
   ]
  },
  {
   "cell_type": "code",
   "execution_count": 9,
   "id": "dynamic-thursday",
   "metadata": {},
   "outputs": [],
   "source": [
    "from sources import load_dataset, parse_config, setup_model\n",
    "from steered_cnn.utils.rotequivariance_toolbox import *\n",
    "from steered_cnn.steered_conv.steerable_filters import radial_steerable_filter, plot_filter\n",
    "from steered_cnn.utils import clip_pad_center\n",
    "from steered_cnn.steered_conv import SteerableKernelBase, OrthoKernelBase\n",
    "from steered_cnn.models import SteeredHemelingNet, HemelingNet\n",
    "from src.trainer import BinaryClassifierNet"
   ]
  },
  {
   "cell_type": "markdown",
   "id": "combined-shoulder",
   "metadata": {},
   "source": [
    "## Orientation Detection"
   ]
  },
  {
   "cell_type": "markdown",
   "id": "8d0fc145-4ac8-4521-b8a5-ee6ec53f4882",
   "metadata": {},
   "source": [
    "#### Generating a Directional Map"
   ]
  },
  {
   "cell_type": "code",
   "execution_count": 4,
   "id": "raising-manner",
   "metadata": {
    "jupyter": {
     "source_hidden": true
    },
    "tags": []
   },
   "outputs": [],
   "source": [
    "base = SteerableKernelBase.create_from_rk(4)\n",
    "x = torch.linspace(-2,2,5)\n",
    "x,y = torch.meshgrid(x,x)\n",
    "K = (x+y)/4\n",
    "K = K.reshape(1,1,5,5)\n",
    "K = clip_pad_center(K, base.base.shape)\n",
    "\n",
    "info = {}\n",
    "W = base.approximate_weights(K, info)"
   ]
  },
  {
   "cell_type": "code",
   "execution_count": 38,
   "id": "85d6b085-191c-4d17-8b52-bcd7a116beaa",
   "metadata": {
    "tags": []
   },
   "outputs": [
    {
     "data": {
      "image/png": "[encoded data removed]",
      "text/plain": [
       "<Figure size 1296x360 with 5 Axes>"
      ]
     },
     "metadata": {
      "needs_background": "light"
     },
     "output_type": "display_data"
    }
   ],
   "source": [
    "I = torch.zeros((1,1,9,9))\n",
    "I[:,:,4,4] = 1\n",
    "fig, axs = plt.subplots(1,5)\n",
    "N = len(axs)-1\n",
    "alphas = np.linspace(0, np.pi, N+1, endpoint=True)\n",
    "rotations = []\n",
    "rotations_label = []\n",
    "for i in range(N+1):\n",
    "    r = base.conv2d(I,W, alpha=alphas[i])[0,0]\n",
    "    plot_filter(r, plot=axs[i], vmax=1)\n",
    "    axs[i].set_title(f'$\\\\alpha = {repr_pi_fraction(i,N)}$')\n",
    "    rotations += [r]\n",
    "    rotations_label += [repr_pi_fraction(i,N)]\n",
    "rotations = torch.stack(rotations)"
   ]
  },
  {
   "cell_type": "markdown",
   "id": "c284bc5c-8db0-4e0d-948a-a486658e8ea7",
   "metadata": {},
   "source": [
    "### Vectorial Attention "
   ]
  },
  {
   "cell_type": "code",
   "execution_count": 48,
   "id": "83e2b55f-4267-4e78-8d1b-0330921b1f30",
   "metadata": {},
   "outputs": [],
   "source": [
    "ortho_base = OrthoKernelBase.from_steerable(4)\n",
    "w = ortho_base.create_weights(1,1)\n",
    "v = ortho_base.ortho_conv2d(rotations[:,None], w, padding='true').squeeze()"
   ]
  },
  {
   "cell_type": "code",
   "execution_count": 49,
   "id": "c47fec72-c175-4f8a-804f-354c21216e1a",
   "metadata": {},
   "outputs": [
    {
     "name": "stdout",
     "output_type": "stream",
     "text": [
      "alpha: tensor([ 0.0000, -1.4286, -2.8573,  3.2837,  3.1416])\n",
      "alpha diff: tensor([ 0.0000, -2.2140, -4.4281,  0.9276,  0.0000])\n",
      "rho: tensor([1.2175, 0.5293, 1.2175, 1.5620, 1.2175])\n"
     ]
    }
   ],
   "source": [
    "alpha = torch.atan2(v[1], v[0])\n",
    "rho = torch.linalg.norm(v, dim=0)\n",
    "\n",
    "print('alpha:', alpha-alpha[0])\n",
    "print('alpha diff:', alpha-alpha[0]-torch.Tensor([i/4*np.pi for i in range(5)]))\n",
    "print('rho:', rho)"
   ]
  },
  {
   "cell_type": "code",
   "execution_count": null,
   "id": "7495cd62-737a-4cc3-9897-3690c57a3e84",
   "metadata": {},
   "outputs": [],
   "source": []
  }
 ],
 "metadata": {
  "kernelspec": {
   "display_name": "Python 3",
   "language": "python",
   "name": "python3"
  },
  "language_info": {
   "codemirror_mode": {
    "name": "ipython",
    "version": 3
   },
   "file_extension": ".py",
   "mimetype": "text/x-python",
   "name": "python",
   "nbconvert_exporter": "python",
   "pygments_lexer": "ipython3",
   "version": "3.8.5"
  }
 },
 "nbformat": 4,
 "nbformat_minor": 5
}
