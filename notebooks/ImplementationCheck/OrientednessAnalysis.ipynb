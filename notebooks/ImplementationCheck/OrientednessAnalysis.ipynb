{
 "cells": [
  {
   "cell_type": "markdown",
   "id": "dressed-pittsburgh",
   "metadata": {},
   "source": [
    "#### includes"
   ]
  },
  {
   "cell_type": "code",
   "execution_count": 1,
   "id": "stable-general",
   "metadata": {},
   "outputs": [],
   "source": [
    "%load_ext autoreload\n",
    "%autoreload 2"
   ]
  },
  {
   "cell_type": "code",
   "execution_count": 2,
   "id": "absent-boost",
   "metadata": {},
   "outputs": [],
   "source": [
    "import numpy as np\n",
    "import pandas as pd\n",
    "from matplotlib import pyplot as plt\n",
    "import mlflow\n",
    "import pytorch_lightning as pl\n",
    "from pytorch_lightning.utilities.cloud_io import load as pl_load\n",
    "import torch\n",
    "import sys\n",
    "\n",
    "plt.rcParams[\"figure.figsize\"] = (18, 5)"
   ]
  },
  {
   "cell_type": "code",
   "execution_count": 3,
   "id": "radio-appraisal",
   "metadata": {},
   "outputs": [],
   "source": [
    "sys.path.insert(0, '../../')\n",
    "from lib.utils.rotequivariance_toolbox import *\n",
    "from lib.steered_conv.steerable_filters import radial_steerable_filter, plot_filter\n",
    "from lib.steered_conv import SteerableKernelBase\n",
    "from experiments.trainer import BinaryClassifierNet\n",
    "from experiments import load_dataset, parse_config, setup_model"
   ]
  },
  {
   "cell_type": "markdown",
   "id": "literary-sessions",
   "metadata": {},
   "source": [
    "## Constantes"
   ]
  },
  {
   "cell_type": "code",
   "execution_count": null,
   "id": "essential-canon",
   "metadata": {},
   "outputs": [],
   "source": [
    "EXP = '/home/gaby/mlflow/mlruns/4/5160045012be4d76af5ecae8ec6f919a/artifacts/'\n",
    "cfg = parse_config(EXP+'cfg_extended.yaml')\n",
    "#cfg.training['dataset-file'] = '/home/gaby/These/src/Fundus/RotInvariance/3-Git/vessels.h5'\n",
    "trainD, validD, testD = load_dataset(cfg)\n",
    "cfg['script-arguments']['gpus']='0'"
   ]
  },
  {
   "cell_type": "markdown",
   "id": "diagnostic-shell",
   "metadata": {
    "heading_collapsed": "true"
   },
   "source": [
    "## Initialisation"
   ]
  },
  {
   "cell_type": "code",
   "execution_count": null,
   "id": "attended-germany",
   "metadata": {},
   "outputs": [],
   "source": [
    "model = setup_model(cfg.model, old=True)\n",
    "net = BinaryClassifierNet(model=model)\n",
    "state_dict = pl_load(EXP+'best-val-roc.ckpt'.format(25), map_location='cuda:0')['state_dict']\n",
    "net.load_state_dict(state_dict)\n",
    "net.eval().cuda()\n",
    "None"
   ]
  },
  {
   "cell_type": "code",
   "execution_count": null,
   "id": "greatest-marks",
   "metadata": {},
   "outputs": [],
   "source": [
    "for d in testD['MESSIDOR']:\n",
    "    break"
   ]
  },
  {
   "cell_type": "code",
   "execution_count": null,
   "id": "outdoor-yellow",
   "metadata": {},
   "outputs": [],
   "source": [
    "THETA = 24\n",
    "x = torch.from_numpy(rotate(d['x'][0].numpy(), THETA)).cuda()"
   ]
  },
  {
   "cell_type": "code",
   "execution_count": null,
   "id": "normal-mumbai",
   "metadata": {},
   "outputs": [],
   "source": [
    "features = {}\n",
    "def log_f(name):\n",
    "    def hook(self, inputs, outputs):\n",
    "        features[name] = outputs.detach().cpu().numpy()\n",
    "    return hook\n",
    "net.model.conv1.relu.register_forward_hook(log_f('conv1'))\n",
    "net.model.conv2.relu.register_forward_hook(log_f('conv2'))\n",
    "net.model.conv3.relu.register_forward_hook(log_f('conv3'))\n",
    "net.model.conv4.relu.register_forward_hook(log_f('conv4'))\n",
    "net.model.conv10.relu.register_forward_hook(log_f('conv10'))\n",
    "\n",
    "None"
   ]
  },
  {
   "cell_type": "code",
   "execution_count": null,
   "id": "north-warner",
   "metadata": {},
   "outputs": [],
   "source": [
    "yhat = net(x)\n",
    "yhat = yhat.detach().cpu().numpy()\n",
    "yhat = unrotate(yhat, THETA)"
   ]
  },
  {
   "cell_type": "markdown",
   "id": "dental-answer",
   "metadata": {
    "heading_collapsed": "true"
   },
   "source": [
    "## Polar Spectral Power Density"
   ]
  },
  {
   "cell_type": "code",
   "execution_count": null,
   "id": "innovative-massage",
   "metadata": {},
   "outputs": [],
   "source": [
    "_ = spectral_power(yhat, plot=True)"
   ]
  },
  {
   "cell_type": "code",
   "execution_count": null,
   "id": "stopped-bones",
   "metadata": {},
   "outputs": [],
   "source": [
    "features = {k: unrotate(v, THETA) for k,v in features.items()}"
   ]
  },
  {
   "cell_type": "code",
   "execution_count": null,
   "id": "rising-oracle",
   "metadata": {},
   "outputs": [],
   "source": [
    "spe = spectral_power(features['conv1'], plot=True, split='normed')\n",
    "\n",
    "fig, axs = plt.subplots(2,4)\n",
    "for i in range(8):\n",
    "    y = spe[:, i]\n",
    "    y = y/y.sum()\n",
    "    x = np.arange(len(spe))\n",
    "    ax = axs[i//4,i%4]\n",
    "    ax.bar(x,y)\n",
    "    ax.set_yscale('sqr')"
   ]
  },
  {
   "cell_type": "code",
   "execution_count": null,
   "id": "relevant-guitar",
   "metadata": {},
   "outputs": [],
   "source": [
    "W = net.model.conv1.conv.weight.detach().cpu().numpy()\n",
    "spe = polar_spectral_power(W, theta=24, plot='sqr', split='normed')\n",
    "\n",
    "fig, axs = plt.subplots(2,4)\n",
    "for i in range(8):\n",
    "    y = spe[:, i]\n",
    "    y = y/y.sum()\n",
    "    x = np.arange(len(spe))\n",
    "    ax = axs[i//4,i%4]\n",
    "    ax.bar(x,y)\n",
    "    ax.set_yscale('sqr')"
   ]
  },
  {
   "cell_type": "code",
   "execution_count": null,
   "id": "dimensional-border",
   "metadata": {},
   "outputs": [],
   "source": [
    "spe = spectral_power(features['conv2'], plot=True, split='normed')\n",
    "\n",
    "fig, axs = plt.subplots(2,4)\n",
    "for i in range(8):\n",
    "    y = spe[0:len(spe)//2+1,i]\n",
    "    y = y/y.sum()\n",
    "    x = np.arange(0,len(spe)//2+1)\n",
    "    ax = axs[i//4,i%4]\n",
    "    ax.bar(x,y)\n",
    "    ax.set_yscale('sqr')"
   ]
  },
  {
   "cell_type": "code",
   "execution_count": null,
   "id": "arabic-usage",
   "metadata": {},
   "outputs": [],
   "source": [
    "W = net.model.conv2.conv.weight.detach().cpu().numpy()\n",
    "spe = polar_spectral_power(W, theta=24, plot='sqr', split='normed')\n",
    "\n",
    "fig, axs = plt.subplots(2,4)\n",
    "for i in range(8):\n",
    "    y = spe[:, i]\n",
    "    y = y/y.sum()\n",
    "    x = np.arange(len(spe))\n",
    "    ax = axs[i//4,i%4]\n",
    "    ax.bar(x,y)\n",
    "    ax.set_yscale('sqr')"
   ]
  },
  {
   "cell_type": "code",
   "execution_count": null,
   "id": "buried-basin",
   "metadata": {},
   "outputs": [],
   "source": [
    "spe = spectral_power(features['conv3'], plot=True, split='normed')\n",
    "\n",
    "fig, axs = plt.subplots(2,4)\n",
    "for i in range(8):\n",
    "    y = spe[:, i]\n",
    "    y = y/y.sum()\n",
    "    x = np.arange(len(spe))\n",
    "    ax = axs[i//4,i%4]\n",
    "    ax.bar(x,y)\n",
    "    ax.set_yscale('sqr')"
   ]
  },
  {
   "cell_type": "code",
   "execution_count": null,
   "id": "sought-entrance",
   "metadata": {},
   "outputs": [],
   "source": [
    "spe = spectral_power(features['conv4'], plot=True, split='normed')\n",
    "\n",
    "fig, axs = plt.subplots(2,4)\n",
    "for i in range(8):\n",
    "    y = spe[:, i]\n",
    "    y = y/y.sum()\n",
    "    x = np.arange(len(spe))\n",
    "    ax = axs[i//4,i%4]\n",
    "    ax.bar(x,y)\n",
    "    ax.set_yscale('sqr')"
   ]
  },
  {
   "cell_type": "code",
   "execution_count": null,
   "id": "known-oriental",
   "metadata": {},
   "outputs": [],
   "source": [
    "from scipy.signal import convolve2d\n",
    "from scipy.ndimage import gaussian_filter\n",
    "\n",
    "grad = np.matmul(np.linspace(-1,1,3)[:,None],np.ones((1,3)))\n",
    "noise = np.random.uniform(0,1,size=(100,100))\n",
    "noise = gaussian_filter(noise, 3)\n",
    "noise = rotate(noise, 24)\n",
    "r = np.stack([convolve2d(_, grad) for _ in noise])\n",
    "r = unrotate(r, 24)\n",
    "spe = spectral_power(r, plot='sqr')"
   ]
  },
  {
   "cell_type": "code",
   "execution_count": null,
   "id": "respiratory-paste",
   "metadata": {},
   "outputs": [],
   "source": [
    "spe = spectral_power(features['conv10'], plot=True, split='normed')\n",
    "spe = spe / spe.sum(axis=0)\n",
    "print(f\"Equivariant features: {(spe[0]>=.5).sum()}/{spe.shape[1]}\")"
   ]
  },
  {
   "cell_type": "markdown",
   "id": "personalized-showcase",
   "metadata": {},
   "source": [
    "## Steerable Filters"
   ]
  },
  {
   "cell_type": "markdown",
   "id": "worldwide-subdivision",
   "metadata": {
    "heading_collapsed": "true"
   },
   "source": [
    "### Polar Spectral Power Density"
   ]
  },
  {
   "cell_type": "code",
   "execution_count": null,
   "id": "disturbed-saskatchewan",
   "metadata": {},
   "outputs": [],
   "source": [
    "plt.rcParams.update({'font.size': 16})\n",
    "F0a = np.ones((1,9))*np.arange(-4,5)[:, np.newaxis]\n",
    "plot_filter(np.real(F0a), axis=False, spd=True)\n",
    "F0b = np.ones((1,9))*-np.abs(np.arange(-4,5)[:, np.newaxis])\n",
    "plot_filter(np.real(F0b), axis=False, spd=True)\n",
    "\n",
    "F0 = radial_steerable_filter(15, k=0,r=6, std=1)\n",
    "plot_filter(-np.real(F0), axis=False, spd=True)\n",
    "F1 = radial_steerable_filter(15, k=1,r=6, std=1)\n",
    "plot_filter(np.real(F1), axis=False, spd=True)\n",
    "F2 = radial_steerable_filter(15, k=2,r=6, std=1)\n",
    "plot_filter(np.real(F2), axis=False, spd=True)\n",
    "F3 = radial_steerable_filter(15, k=3,r=6, std=1)\n",
    "plot_filter(np.real(F3), axis=False, spd=True)"
   ]
  },
  {
   "cell_type": "markdown",
   "id": "comparative-adrian",
   "metadata": {
    "heading_collapsed": "true"
   },
   "source": [
    "### Steerable Filters"
   ]
  },
  {
   "cell_type": "code",
   "execution_count": null,
   "id": "local-absolute",
   "metadata": {},
   "outputs": [],
   "source": [
    "base = SteerableKernelBase.create_from_rk(4)\n",
    "print(len(base.base))\n",
    "for i, k_label in enumerate(base.kernels_label):\n",
    "    plot_filter(base.base[i], spd=16, colorbar=True)\n",
    "    plt.title(k_label)"
   ]
  },
  {
   "cell_type": "markdown",
   "id": "outstanding-airfare",
   "metadata": {
    "heading_collapsed": "true"
   },
   "source": [
    "### Cos Sin Combination Test"
   ]
  },
  {
   "cell_type": "code",
   "execution_count": null,
   "id": "mineral-thompson",
   "metadata": {},
   "outputs": [],
   "source": [
    "base = SteerableKernelBase.create_from_rk(4)\n",
    "alpha = torch.linspace(0, 2*np.pi, 4)\n",
    "k_max = 5\n",
    "kalpha = torch.stack([k*alpha for k in range(1,k_max+1)])\n",
    "true_cos_sin_kalpha = torch.stack([torch.cos(kalpha), torch.sin(kalpha)])"
   ]
  },
  {
   "cell_type": "code",
   "execution_count": null,
   "id": "accompanied-particular",
   "metadata": {},
   "outputs": [],
   "source": [
    "from lib.steered_conv.steerable_filters import cos_sin_ka, cos_sin_ka_stack\n",
    "fast_cos_sin_kalpha = cos_sin_ka_stack(torch.cos(alpha), torch.sin(alpha), k_max)\n",
    "diff = true_cos_sin_kalpha-fast_cos_sin_kalpha\n",
    "print('Average Diff:')\n",
    "pd.DataFrame({'cos':diff[0].mean(-1), 'sin': diff[0].mean(-1)}, index=list(range(1,k_max+1)))"
   ]
  },
  {
   "cell_type": "markdown",
   "id": "coupled-service",
   "metadata": {},
   "source": [
    "### Steerable Test"
   ]
  },
  {
   "cell_type": "code",
   "execution_count": 5,
   "id": "emotional-stress",
   "metadata": {},
   "outputs": [
    {
     "data": {
      "text/plain": [
       "tensor([[[-4.8384e-01, -2.3525e+05, -3.6858e+05,  1.0456e+06, -1.1118e+05,\n",
       "           9.3621e+05,  1.2616e+06,  8.7349e+05,  2.9378e+05,  3.8835e+05,\n",
       "          -4.7653e+05,  2.2374e+05,  2.7290e+05,  1.6086e+05,  1.6356e+05,\n",
       "          -7.7553e+04, -5.2750e+04,  7.6555e+04, -2.3689e+04, -3.2193e+04,\n",
       "           1.6944e+04,  7.5388e+04, -1.8686e+05,  4.0140e+04, -4.2307e+04,\n",
       "           1.8755e+04,  5.1630e+04, -1.0826e+04, -2.0778e+04,  3.3235e+04,\n",
       "          -2.3016e+04,  2.3101e+04, -4.3279e+04, -1.4023e+04]]],\n",
       "       device='cuda:0')"
      ]
     },
     "execution_count": 5,
     "metadata": {},
     "output_type": "execute_result"
    }
   ],
   "source": [
    "base = SteerableKernelBase.create_from_rk(4)\n",
    "x = torch.linspace(-2,2,5, device='cuda', dtype=torch.float)\n",
    "x,y = torch.meshgrid(x,x)\n",
    "\n",
    "K = x+y\n",
    "K = K.reshape(1,1,5,5)\n",
    "info = {}\n",
    "\n",
    "W = base.approximate_weights(K, info)\n",
    "W"
   ]
  },
  {
   "cell_type": "markdown",
   "id": "vulnerable-chorus",
   "metadata": {},
   "source": [
    "**Checking weight approximation**"
   ]
  },
  {
   "cell_type": "code",
   "execution_count": null,
   "id": "elder-height",
   "metadata": {},
   "outputs": [],
   "source": [
    "plot_filter(K[0,0], spd=True)\n",
    "plot_filter(info['y_approx'][0,0], spd=True)\n",
    "print(f'mse:{info[\"mse\"]:.3f}, r2:{info[\"r2\"]:.3f}')\n"
   ]
  },
  {
   "cell_type": "markdown",
   "id": "silver-blues",
   "metadata": {},
   "source": [
    "**Checking filter rotation for different steer angle $\\alpha$**"
   ]
  },
  {
   "cell_type": "code",
   "execution_count": null,
   "id": "governmental-doubt",
   "metadata": {},
   "outputs": [],
   "source": [
    "I = torch.zeros((1,1,7,7))\n",
    "I[:,:,3,3] = 1\n",
    "fig, axs = plt.subplots(1,5)\n",
    "N = len(axs)-1\n",
    "alphas = np.linspace(0, np.pi, N+1, endpoint=True)\n",
    "for i in range(N+1):\n",
    "    plot_filter(base.conv2d(I,W[0], alpha=alphas[i])[0,0], plot=axs[i])\n",
    "    if i==0:\n",
    "        axs[i].set_title('$\\\\alpha=0$')\n",
    "    elif i%2 or N%2:\n",
    "        axs[i].set_title('$\\\\alpha = \\dfrac{%i \\pi}{%i}$' % (i, N))\n",
    "    else:\n",
    "        axs[i].set_title('$\\\\alpha = \\dfrac{%i \\pi}{%i}$' % (i//2, N/2))"
   ]
  },
  {
   "cell_type": "code",
   "execution_count": null,
   "id": "statutory-festival",
   "metadata": {},
   "outputs": [],
   "source": []
  }
 ],
 "metadata": {
  "kernelspec": {
   "display_name": "Python 3",
   "language": "python",
   "name": "python3"
  },
  "language_info": {
   "codemirror_mode": {
    "name": "ipython",
    "version": 3
   },
   "file_extension": ".py",
   "mimetype": "text/x-python",
   "name": "python",
   "nbconvert_exporter": "python",
   "pygments_lexer": "ipython3",
   "version": "3.7.4"
  },
  "latex_envs": {
   "LaTeX_envs_menu_present": true,
   "autoclose": false,
   "autocomplete": true,
   "bibliofile": "biblio.bib",
   "cite_by": "apalike",
   "current_citInitial": 1,
   "eqLabelWithNumbers": true,
   "eqNumInitial": 1,
   "hotkeys": {
    "equation": "Ctrl-E",
    "itemize": "Ctrl-I"
   },
   "labels_anchors": false,
   "latex_user_defs": false,
   "report_style_numbering": false,
   "user_envs_cfg": false
  },
  "varInspector": {
   "cols": {
    "lenName": 16,
    "lenType": 16,
    "lenVar": 40
   },
   "kernels_config": {
    "python": {
     "delete_cmd_postfix": "",
     "delete_cmd_prefix": "del ",
     "library": "var_list.py",
     "varRefreshCmd": "print(var_dic_list())"
    },
    "r": {
     "delete_cmd_postfix": ") ",
     "delete_cmd_prefix": "rm(",
     "library": "var_list.r",
     "varRefreshCmd": "cat(var_dic_list()) "
    }
   },
   "types_to_exclude": [
    "module",
    "function",
    "builtin_function_or_method",
    "instance",
    "_Feature"
   ],
   "window_display": false
  }
 },
 "nbformat": 4,
 "nbformat_minor": 5
}
