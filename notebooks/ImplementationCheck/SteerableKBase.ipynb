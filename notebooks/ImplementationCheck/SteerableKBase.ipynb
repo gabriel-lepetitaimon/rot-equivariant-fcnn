{
 "cells": [
  {
   "cell_type": "markdown",
   "id": "early-capitol",
   "metadata": {},
   "source": [
    "#### includes"
   ]
  },
  {
   "cell_type": "code",
   "execution_count": 1,
   "id": "aware-forest",
   "metadata": {},
   "outputs": [],
   "source": [
    "%load_ext autoreload\n",
    "%autoreload 2"
   ]
  },
  {
   "cell_type": "code",
   "execution_count": 2,
   "id": "dimensional-mason",
   "metadata": {},
   "outputs": [],
   "source": [
    "import numpy as np\n",
    "import pandas as pd\n",
    "from matplotlib import pyplot as plt\n",
    "import mlflow\n",
    "import pytorch_lightning as pl\n",
    "from pytorch_lightning.utilities.cloud_io import load as pl_load\n",
    "import torch\n",
    "import sys\n",
    "\n"
   ]
  },
  {
   "cell_type": "code",
   "execution_count": 3,
   "id": "future-entity",
   "metadata": {},
   "outputs": [],
   "source": [
    "import sources\n",
    "from steered_cnn.utils.rotequivariance_toolbox import *\n",
    "from steered_cnn.steered_conv.steerable_filters import radial_steerable_filter, plot_filter\n",
    "from steered_cnn.utils.clip_pad import clip_pad_center\n",
    "from steered_cnn.steered_conv import SteerableKernelBase\n",
    "from src.trainer import BinaryClassifierNet\n",
    "from sources import load_dataset, parse_config, setup_model"
   ]
  },
  {
   "cell_type": "markdown",
   "id": "adaptive-guard",
   "metadata": {
    "heading_collapsed": "true"
   },
   "source": [
    "### Cos Sin Combination Test"
   ]
  },
  {
   "cell_type": "code",
   "execution_count": 4,
   "id": "broke-eleven",
   "metadata": {},
   "outputs": [],
   "source": [
    "alpha = torch.linspace(0, 2*np.pi, 4)\n",
    "k_max = 5\n",
    "kalpha = torch.stack([k*alpha for k in range(1,k_max+1)])\n",
    "true_cos_sin_kalpha = torch.stack([torch.cos(kalpha), torch.sin(kalpha)])"
   ]
  },
  {
   "cell_type": "code",
   "execution_count": 12,
   "id": "cubic-salmon",
   "metadata": {},
   "outputs": [
    {
     "name": "stdout",
     "output_type": "stream",
     "text": [
      "Average Diff:\n"
     ]
    },
    {
     "data": {
      "text/html": [
       "<div>\n",
       "<style scoped>\n",
       "    .dataframe tbody tr th:only-of-type {\n",
       "        vertical-align: middle;\n",
       "    }\n",
       "\n",
       "    .dataframe tbody tr th {\n",
       "        vertical-align: top;\n",
       "    }\n",
       "\n",
       "    .dataframe thead th {\n",
       "        text-align: right;\n",
       "    }\n",
       "</style>\n",
       "<table border=\"1\" class=\"dataframe\">\n",
       "  <thead>\n",
       "    <tr style=\"text-align: right;\">\n",
       "      <th></th>\n",
       "      <th>cos</th>\n",
       "      <th>sin</th>\n",
       "    </tr>\n",
       "  </thead>\n",
       "  <tbody>\n",
       "    <tr>\n",
       "      <th>1</th>\n",
       "      <td>0.000000e+00</td>\n",
       "      <td>0.000000e+00</td>\n",
       "    </tr>\n",
       "    <tr>\n",
       "      <th>2</th>\n",
       "      <td>-7.450581e-09</td>\n",
       "      <td>-7.450581e-09</td>\n",
       "    </tr>\n",
       "    <tr>\n",
       "      <th>3</th>\n",
       "      <td>1.490116e-08</td>\n",
       "      <td>1.490116e-08</td>\n",
       "    </tr>\n",
       "    <tr>\n",
       "      <th>4</th>\n",
       "      <td>2.235174e-08</td>\n",
       "      <td>2.235174e-08</td>\n",
       "    </tr>\n",
       "    <tr>\n",
       "      <th>5</th>\n",
       "      <td>5.960464e-08</td>\n",
       "      <td>5.960464e-08</td>\n",
       "    </tr>\n",
       "  </tbody>\n",
       "</table>\n",
       "</div>"
      ],
      "text/plain": [
       "            cos           sin\n",
       "1  0.000000e+00  0.000000e+00\n",
       "2 -7.450581e-09 -7.450581e-09\n",
       "3  1.490116e-08  1.490116e-08\n",
       "4  2.235174e-08  2.235174e-08\n",
       "5  5.960464e-08  5.960464e-08"
      ]
     },
     "execution_count": 12,
     "metadata": {},
     "output_type": "execute_result"
    }
   ],
   "source": [
    "from steered_cnn.steered_conv.steerable_filters import cos_sin_ka, cos_sin_ka_stack\n",
    "fast_cos_sin_kalpha = cos_sin_ka_stack(torch.cos(alpha), torch.sin(alpha), k_max)\n",
    "diff = true_cos_sin_kalpha-fast_cos_sin_kalpha\n",
    "print('Average Diff:')\n",
    "pd.DataFrame({'cos':diff[0].mean(-1), 'sin': diff[0].mean(-1)}, index=list(range(1,k_max+1)))"
   ]
  },
  {
   "cell_type": "markdown",
   "id": "6b6af4fa-0479-466c-95d6-8ffe5ea791a6",
   "metadata": {},
   "source": [
    "**Not Unary cos sin**"
   ]
  },
  {
   "cell_type": "code",
   "execution_count": 11,
   "id": "9dbaed73-4eb6-4583-82a9-a5ef314a7a88",
   "metadata": {},
   "outputs": [
    {
     "name": "stdout",
     "output_type": "stream",
     "text": [
      "Average Diff:\n"
     ]
    },
    {
     "data": {
      "text/html": [
       "<div>\n",
       "<style scoped>\n",
       "    .dataframe tbody tr th:only-of-type {\n",
       "        vertical-align: middle;\n",
       "    }\n",
       "\n",
       "    .dataframe tbody tr th {\n",
       "        vertical-align: top;\n",
       "    }\n",
       "\n",
       "    .dataframe thead th {\n",
       "        text-align: right;\n",
       "    }\n",
       "</style>\n",
       "<table border=\"1\" class=\"dataframe\">\n",
       "  <thead>\n",
       "    <tr style=\"text-align: right;\">\n",
       "      <th></th>\n",
       "      <th>cos</th>\n",
       "      <th>sin</th>\n",
       "    </tr>\n",
       "  </thead>\n",
       "  <tbody>\n",
       "    <tr>\n",
       "      <th>1</th>\n",
       "      <td>0.000000e+00</td>\n",
       "      <td>0.000000e+00</td>\n",
       "    </tr>\n",
       "    <tr>\n",
       "      <th>2</th>\n",
       "      <td>-5.960464e-08</td>\n",
       "      <td>-5.960464e-08</td>\n",
       "    </tr>\n",
       "    <tr>\n",
       "      <th>3</th>\n",
       "      <td>0.000000e+00</td>\n",
       "      <td>0.000000e+00</td>\n",
       "    </tr>\n",
       "    <tr>\n",
       "      <th>4</th>\n",
       "      <td>1.788139e-07</td>\n",
       "      <td>1.788139e-07</td>\n",
       "    </tr>\n",
       "    <tr>\n",
       "      <th>5</th>\n",
       "      <td>1.192093e-07</td>\n",
       "      <td>1.192093e-07</td>\n",
       "    </tr>\n",
       "  </tbody>\n",
       "</table>\n",
       "</div>"
      ],
      "text/plain": [
       "            cos           sin\n",
       "1  0.000000e+00  0.000000e+00\n",
       "2 -5.960464e-08 -5.960464e-08\n",
       "3  0.000000e+00  0.000000e+00\n",
       "4  1.788139e-07  1.788139e-07\n",
       "5  1.192093e-07  1.192093e-07"
      ]
     },
     "execution_count": 11,
     "metadata": {},
     "output_type": "execute_result"
    }
   ],
   "source": [
    "fast_cos_sin_kalpha = cos_sin_ka_stack(torch.cos(alpha)*3, torch.sin(alpha)*3, k_max)\n",
    "diff = true_cos_sin_kalpha*3-fast_cos_sin_kalpha\n",
    "print('Average Diff:')\n",
    "pd.DataFrame({'cos':diff[0].mean(-1), 'sin': diff[0].mean(-1)}, index=list(range(1,k_max+1)))"
   ]
  },
  {
   "cell_type": "markdown",
   "id": "english-crowd",
   "metadata": {},
   "source": [
    "### Steerable Test"
   ]
  },
  {
   "cell_type": "code",
   "execution_count": 24,
   "id": "tutorial-bargain",
   "metadata": {
    "tags": []
   },
   "outputs": [
    {
     "name": "stdout",
     "output_type": "stream",
     "text": [
      "mse:0.017, r2:0.992\n",
      "tensor([[[     0.000,     -0.000,      0.000,      0.000,      0.290,\n",
      "               1.863,      1.154,     -0.000,      0.000,      0.000,\n",
      "               0.383,     -0.827,     -0.000,      0.000,      0.067,\n",
      "              -0.741,      0.000,      0.230,     -0.000,      0.290,\n",
      "               1.863,      1.154,     -0.000,      0.000,     -0.000,\n",
      "              -0.383,      0.827,     -0.000,      0.000,      0.067,\n",
      "              -0.741,     -0.000,     -0.230,     -0.000]]])\n"
     ]
    }
   ],
   "source": [
    "\n",
    "base = SteerableKernelBase.create_from_rk(4)\n",
    "x = torch.linspace(-2,2,5)\n",
    "x,y = torch.meshgrid(x,x)\n",
    "K = x+y\n",
    "K = K.reshape(1,1,5,5)\n",
    "K = clip_pad_center(K, base.base.shape)\n",
    "\n",
    "info = {}\n",
    "\n",
    "W = base.approximate_weights(K, info)\n",
    "print(f'mse:{info[\"mse\"]:.3f}, r2:{info[\"r2\"]:.3f}')\n",
    "\n",
    "torch.set_printoptions(precision=3, sci_mode=False)\n",
    "print(W)\n"
   ]
  },
  {
   "cell_type": "markdown",
   "id": "abandoned-flight",
   "metadata": {},
   "source": [
    "**Checking weight approximation**"
   ]
  },
  {
   "cell_type": "code",
   "execution_count": 30,
   "id": "corresponding-reaction",
   "metadata": {
    "tags": []
   },
   "outputs": [
    {
     "name": "stdout",
     "output_type": "stream",
     "text": [
      "mse:0.017, r2:0.992\n"
     ]
    },
    {
     "data": {
      "image/png": "[encoded data removed]",
      "text/plain": [
       "<Figure size 1296x360 with 2 Axes>"
      ]
     },
     "metadata": {
      "needs_background": "light"
     },
     "output_type": "display_data"
    },
    {
     "data": {
      "image/png": "[encoded data removed]",
      "text/plain": [
       "<Figure size 1296x360 with 2 Axes>"
      ]
     },
     "metadata": {
      "needs_background": "light"
     },
     "output_type": "display_data"
    }
   ],
   "source": [
    "plot_filter(K[0,0], spd=True)\n",
    "plot_filter(info['y_approx'][0,0], spd=True)\n",
    "print(f'mse:{info[\"mse\"]:.3f}, r2:{info[\"r2\"]:.3f}')\n"
   ]
  },
  {
   "cell_type": "markdown",
   "id": "lasting-ecuador",
   "metadata": {},
   "source": [
    "**Checking filter rotation for different steer angle $\\alpha$**"
   ]
  },
  {
   "cell_type": "code",
   "execution_count": 31,
   "id": "exciting-string",
   "metadata": {},
   "outputs": [
    {
     "data": {
      "image/png": "[encoded data removed]",
      "text/plain": [
       "<Figure size 1296x360 with 5 Axes>"
      ]
     },
     "metadata": {
      "needs_background": "light"
     },
     "output_type": "display_data"
    }
   ],
   "source": [
    "I = torch.zeros((1,1,7,7))\n",
    "I[:,:,3,3] = 1\n",
    "fig, axs = plt.subplots(1,5)\n",
    "N = len(axs)-1\n",
    "alphas = np.linspace(0, np.pi, N+1, endpoint=True)\n",
    "for i in range(N+1):\n",
    "    plot_filter(base.conv2d(I,W, alpha=alphas[i])[0,0], plot=axs[i])\n",
    "    if i==0:\n",
    "        axs[i].set_title('$\\\\alpha=0$')\n",
    "    elif i%2 or N%2:\n",
    "        axs[i].set_title('$\\\\alpha = \\dfrac{%i \\pi}{%i}$' % (i, N))\n",
    "    else:\n",
    "        axs[i].set_title('$\\\\alpha = \\dfrac{%i \\pi}{%i}$' % (i//2, N/2))"
   ]
  },
  {
   "cell_type": "code",
   "execution_count": null,
   "id": "cardiac-naples",
   "metadata": {},
   "outputs": [],
   "source": []
  }
 ],
 "metadata": {
  "kernelspec": {
   "display_name": "Python 3",
   "language": "python",
   "name": "python3"
  },
  "language_info": {
   "codemirror_mode": {
    "name": "ipython",
    "version": 3
   },
   "file_extension": ".py",
   "mimetype": "text/x-python",
   "name": "python",
   "nbconvert_exporter": "python",
   "pygments_lexer": "ipython3",
   "version": "3.8.5"
  },
  "latex_envs": {
   "LaTeX_envs_menu_present": true,
   "autoclose": false,
   "autocomplete": true,
   "bibliofile": "biblio.bib",
   "cite_by": "apalike",
   "current_citInitial": 1,
   "eqLabelWithNumbers": true,
   "eqNumInitial": 1,
   "hotkeys": {
    "equation": "Ctrl-E",
    "itemize": "Ctrl-I"
   },
   "labels_anchors": false,
   "latex_user_defs": false,
   "report_style_numbering": false,
   "user_envs_cfg": false
  },
  "varInspector": {
   "cols": {
    "lenName": 16,
    "lenType": 16,
    "lenVar": 40
   },
   "kernels_config": {
    "python": {
     "delete_cmd_postfix": "",
     "delete_cmd_prefix": "del ",
     "library": "var_list.py",
     "varRefreshCmd": "print(var_dic_list())"
    },
    "r": {
     "delete_cmd_postfix": ") ",
     "delete_cmd_prefix": "rm(",
     "library": "var_list.r",
     "varRefreshCmd": "cat(var_dic_list()) "
    }
   },
   "types_to_exclude": [
    "module",
    "function",
    "builtin_function_or_method",
    "instance",
    "_Feature"
   ],
   "window_display": false
  }
 },
 "nbformat": 4,
 "nbformat_minor": 5
}
