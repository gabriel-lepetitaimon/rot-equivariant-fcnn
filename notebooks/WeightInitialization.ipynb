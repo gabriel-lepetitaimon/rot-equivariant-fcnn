{
 "cells": [
  {
   "cell_type": "markdown",
   "id": "great-preference",
   "metadata": {},
   "source": [
    "#### Includes"
   ]
  },
  {
   "cell_type": "code",
   "execution_count": 35,
   "id": "solid-surveillance",
   "metadata": {},
   "outputs": [
    {
     "name": "stdout",
     "output_type": "stream",
     "text": [
      "The autoreload extension is already loaded. To reload it, use:\n",
      "  %reload_ext autoreload\n"
     ]
    }
   ],
   "source": [
    "%load_ext autoreload\n",
    "%autoreload 2"
   ]
  },
  {
   "cell_type": "code",
   "execution_count": 36,
   "id": "interior-prize",
   "metadata": {},
   "outputs": [],
   "source": [
    "import numpy as np\n",
    "from matplotlib import pyplot as plt\n",
    "import mlflow\n",
    "import pytorch_lightning as pl\n",
    "from pytorch_lightning.utilities.cloud_io import load as pl_load\n",
    "import torch\n",
    "import sys\n",
    "import pandas as pd\n",
    "sys.path.insert(0, '../')"
   ]
  },
  {
   "cell_type": "code",
   "execution_count": 37,
   "id": "obvious-audience",
   "metadata": {},
   "outputs": [],
   "source": [
    "from src.rot_utils import *\n",
    "from src.steered_cnn import SteerableKernelBase"
   ]
  },
  {
   "cell_type": "markdown",
   "id": "hidden-bachelor",
   "metadata": {},
   "source": [
    "## Spatial Homogeneity"
   ]
  },
  {
   "cell_type": "code",
   "execution_count": 51,
   "id": "confirmed-laser",
   "metadata": {},
   "outputs": [],
   "source": [
    "base = SteerableKernelBase.create_from_rk(4, max_k=5)\n",
    "K1 = torch.ones((1,1,5,5))\n",
    "W = base.approximate_weights(K1)"
   ]
  },
  {
   "cell_type": "code",
   "execution_count": 52,
   "id": "compliant-lotus",
   "metadata": {},
   "outputs": [
    {
     "data": {
      "text/html": [
       "<div>\n",
       "<style scoped>\n",
       "    .dataframe tbody tr th:only-of-type {\n",
       "        vertical-align: middle;\n",
       "    }\n",
       "\n",
       "    .dataframe tbody tr th {\n",
       "        vertical-align: top;\n",
       "    }\n",
       "\n",
       "    .dataframe thead th {\n",
       "        text-align: right;\n",
       "    }\n",
       "</style>\n",
       "<table border=\"1\" class=\"dataframe\">\n",
       "  <thead>\n",
       "    <tr style=\"text-align: right;\">\n",
       "      <th></th>\n",
       "      <th>label</th>\n",
       "      <th>weight</th>\n",
       "    </tr>\n",
       "  </thead>\n",
       "  <tbody>\n",
       "    <tr>\n",
       "      <th>0</th>\n",
       "      <td>k0r0</td>\n",
       "      <td>25.212845</td>\n",
       "    </tr>\n",
       "    <tr>\n",
       "      <th>1</th>\n",
       "      <td>k0r1</td>\n",
       "      <td>-107.286812</td>\n",
       "    </tr>\n",
       "    <tr>\n",
       "      <th>2</th>\n",
       "      <td>k0r2</td>\n",
       "      <td>101.932335</td>\n",
       "    </tr>\n",
       "    <tr>\n",
       "      <th>3</th>\n",
       "      <td>k0r3</td>\n",
       "      <td>-19.541313</td>\n",
       "    </tr>\n",
       "    <tr>\n",
       "      <th>4</th>\n",
       "      <td>k1r1r</td>\n",
       "      <td>-49.464695</td>\n",
       "    </tr>\n",
       "    <tr>\n",
       "      <th>5</th>\n",
       "      <td>k1r2r</td>\n",
       "      <td>24.340584</td>\n",
       "    </tr>\n",
       "    <tr>\n",
       "      <th>6</th>\n",
       "      <td>k1r3r</td>\n",
       "      <td>-47.910381</td>\n",
       "    </tr>\n",
       "    <tr>\n",
       "      <th>7</th>\n",
       "      <td>k2r1r</td>\n",
       "      <td>151.446533</td>\n",
       "    </tr>\n",
       "    <tr>\n",
       "      <th>8</th>\n",
       "      <td>k2r2r</td>\n",
       "      <td>-150.599579</td>\n",
       "    </tr>\n",
       "    <tr>\n",
       "      <th>9</th>\n",
       "      <td>k2r3r</td>\n",
       "      <td>-35.060406</td>\n",
       "    </tr>\n",
       "    <tr>\n",
       "      <th>10</th>\n",
       "      <td>k3r2r</td>\n",
       "      <td>-313.559937</td>\n",
       "    </tr>\n",
       "    <tr>\n",
       "      <th>11</th>\n",
       "      <td>k3r3r</td>\n",
       "      <td>163.653778</td>\n",
       "    </tr>\n",
       "    <tr>\n",
       "      <th>12</th>\n",
       "      <td>k4r2r</td>\n",
       "      <td>4.809166</td>\n",
       "    </tr>\n",
       "    <tr>\n",
       "      <th>13</th>\n",
       "      <td>k4r3r</td>\n",
       "      <td>-35.425320</td>\n",
       "    </tr>\n",
       "    <tr>\n",
       "      <th>14</th>\n",
       "      <td>k5r2r</td>\n",
       "      <td>271.548370</td>\n",
       "    </tr>\n",
       "    <tr>\n",
       "      <th>15</th>\n",
       "      <td>k5r3r</td>\n",
       "      <td>-220.185883</td>\n",
       "    </tr>\n",
       "    <tr>\n",
       "      <th>16</th>\n",
       "      <td>k1r1I</td>\n",
       "      <td>48.857361</td>\n",
       "    </tr>\n",
       "    <tr>\n",
       "      <th>17</th>\n",
       "      <td>k1r2I</td>\n",
       "      <td>-174.060577</td>\n",
       "    </tr>\n",
       "    <tr>\n",
       "      <th>18</th>\n",
       "      <td>k1r3I</td>\n",
       "      <td>158.353653</td>\n",
       "    </tr>\n",
       "    <tr>\n",
       "      <th>19</th>\n",
       "      <td>k2r1I</td>\n",
       "      <td>441.602295</td>\n",
       "    </tr>\n",
       "    <tr>\n",
       "      <th>20</th>\n",
       "      <td>k2r2I</td>\n",
       "      <td>-315.372192</td>\n",
       "    </tr>\n",
       "    <tr>\n",
       "      <th>21</th>\n",
       "      <td>k2r3I</td>\n",
       "      <td>42.946205</td>\n",
       "    </tr>\n",
       "    <tr>\n",
       "      <th>22</th>\n",
       "      <td>k3r2I</td>\n",
       "      <td>-36.980396</td>\n",
       "    </tr>\n",
       "    <tr>\n",
       "      <th>23</th>\n",
       "      <td>k3r3I</td>\n",
       "      <td>-10.196739</td>\n",
       "    </tr>\n",
       "    <tr>\n",
       "      <th>24</th>\n",
       "      <td>k4r2I</td>\n",
       "      <td>-267.636902</td>\n",
       "    </tr>\n",
       "    <tr>\n",
       "      <th>25</th>\n",
       "      <td>k4r3I</td>\n",
       "      <td>262.084534</td>\n",
       "    </tr>\n",
       "    <tr>\n",
       "      <th>26</th>\n",
       "      <td>k5r2I</td>\n",
       "      <td>-130.241989</td>\n",
       "    </tr>\n",
       "    <tr>\n",
       "      <th>27</th>\n",
       "      <td>k5r3I</td>\n",
       "      <td>150.817657</td>\n",
       "    </tr>\n",
       "  </tbody>\n",
       "</table>\n",
       "</div>"
      ],
      "text/plain": [
       "    label      weight\n",
       "0    k0r0   25.212845\n",
       "1    k0r1 -107.286812\n",
       "2    k0r2  101.932335\n",
       "3    k0r3  -19.541313\n",
       "4   k1r1r  -49.464695\n",
       "5   k1r2r   24.340584\n",
       "6   k1r3r  -47.910381\n",
       "7   k2r1r  151.446533\n",
       "8   k2r2r -150.599579\n",
       "9   k2r3r  -35.060406\n",
       "10  k3r2r -313.559937\n",
       "11  k3r3r  163.653778\n",
       "12  k4r2r    4.809166\n",
       "13  k4r3r  -35.425320\n",
       "14  k5r2r  271.548370\n",
       "15  k5r3r -220.185883\n",
       "16  k1r1I   48.857361\n",
       "17  k1r2I -174.060577\n",
       "18  k1r3I  158.353653\n",
       "19  k2r1I  441.602295\n",
       "20  k2r2I -315.372192\n",
       "21  k2r3I   42.946205\n",
       "22  k3r2I  -36.980396\n",
       "23  k3r3I  -10.196739\n",
       "24  k4r2I -267.636902\n",
       "25  k4r3I  262.084534\n",
       "26  k5r2I -130.241989\n",
       "27  k5r3I  150.817657"
      ]
     },
     "execution_count": 52,
     "metadata": {},
     "output_type": "execute_result"
    }
   ],
   "source": [
    "pd.DataFrame({'label': base.kernels_label, 'weight': W[0,0]})"
   ]
  },
  {
   "cell_type": "code",
   "execution_count": 53,
   "id": "medieval-contemporary",
   "metadata": {},
   "outputs": [
    {
     "name": "stderr",
     "output_type": "stream",
     "text": [
      "/home/gaby/.conda/envs/nnet/lib/python3.7/site-packages/matplotlib/figure.py:445: UserWarning: Matplotlib is currently using module://ipykernel.pylab.backend_inline, which is a non-GUI backend, so cannot show the figure.\n",
      "  % get_backend())\n"
     ]
    },
    {
     "data": {
      "image/png": "[encoded data removed]",
      "text/plain": [
       "<Figure size 1296x360 with 1 Axes>"
      ]
     },
     "metadata": {
      "needs_background": "light"
     },
     "output_type": "display_data"
    }
   ],
   "source": [
    "h, w = 15, 15\n",
    "I = torch.zeros((1,1,h,w))\n",
    "I[0,0,h//2,w//2] = 1\n",
    "W1 = torch.ones(W.shape)\n",
    "plot_filter(base.conv2d(I, W1)[0,0])"
   ]
  },
  {
   "cell_type": "code",
   "execution_count": 54,
   "id": "british-change",
   "metadata": {},
   "outputs": [
    {
     "data": {
      "text/plain": [
       "tensor(5.8699)"
      ]
     },
     "execution_count": 54,
     "metadata": {},
     "output_type": "execute_result"
    }
   ],
   "source": [
    "O = base.conv2d(I, W1)[0,0]\n",
    "O.max()"
   ]
  },
  {
   "cell_type": "code",
   "execution_count": 55,
   "id": "dominican-cancellation",
   "metadata": {},
   "outputs": [
    {
     "ename": "IndexError",
     "evalue": "index 1 is out of bounds for dimension 1 with size 1",
     "output_type": "error",
     "traceback": [
      "\u001b[0;31m---------------------------------------------------------------------------\u001b[0m",
      "\u001b[0;31mIndexError\u001b[0m                                Traceback (most recent call last)",
      "\u001b[0;32m<ipython-input-55-009c941d79eb>\u001b[0m in \u001b[0;36m<module>\u001b[0;34m\u001b[0m\n\u001b[1;32m      1\u001b[0m \u001b[0;32mfor\u001b[0m \u001b[0mi\u001b[0m \u001b[0;32min\u001b[0m \u001b[0mrange\u001b[0m\u001b[0;34m(\u001b[0m\u001b[0;36m6\u001b[0m\u001b[0;34m)\u001b[0m\u001b[0;34m:\u001b[0m\u001b[0;34m\u001b[0m\u001b[0;34m\u001b[0m\u001b[0m\n\u001b[0;32m----> 2\u001b[0;31m     \u001b[0mplot_filter\u001b[0m\u001b[0;34m(\u001b[0m\u001b[0mbase\u001b[0m\u001b[0;34m.\u001b[0m\u001b[0mconv2d\u001b[0m\u001b[0;34m(\u001b[0m\u001b[0mI\u001b[0m\u001b[0;34m,\u001b[0m \u001b[0mW\u001b[0m\u001b[0;34m)\u001b[0m\u001b[0;34m[\u001b[0m\u001b[0;36m0\u001b[0m\u001b[0;34m,\u001b[0m\u001b[0mi\u001b[0m\u001b[0;34m]\u001b[0m\u001b[0;34m)\u001b[0m\u001b[0;34m\u001b[0m\u001b[0;34m\u001b[0m\u001b[0m\n\u001b[0m",
      "\u001b[0;31mIndexError\u001b[0m: index 1 is out of bounds for dimension 1 with size 1"
     ]
    },
    {
     "data": {
      "image/png": "[encoded data removed]",
      "text/plain": [
       "<Figure size 1296x360 with 1 Axes>"
      ]
     },
     "metadata": {
      "needs_background": "light"
     },
     "output_type": "display_data"
    }
   ],
   "source": [
    "for i in range(6):\n",
    "    plot_filter(base.conv2d(I, W)[0,i])"
   ]
  },
  {
   "cell_type": "code",
   "execution_count": null,
   "id": "emotional-office",
   "metadata": {},
   "outputs": [],
   "source": []
  },
  {
   "cell_type": "code",
   "execution_count": null,
   "id": "advised-grave",
   "metadata": {},
   "outputs": [],
   "source": []
  }
 ],
 "metadata": {
  "kernelspec": {
   "display_name": "Python 3",
   "language": "python",
   "name": "python3"
  },
  "language_info": {
   "codemirror_mode": {
    "name": "ipython",
    "version": 3
   },
   "file_extension": ".py",
   "mimetype": "text/x-python",
   "name": "python",
   "nbconvert_exporter": "python",
   "pygments_lexer": "ipython3",
   "version": "3.7.4"
  }
 },
 "nbformat": 4,
 "nbformat_minor": 5
}
