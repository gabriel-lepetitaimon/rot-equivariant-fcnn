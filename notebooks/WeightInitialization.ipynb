{
 "cells": [
  {
   "cell_type": "markdown",
   "id": "spoken-emphasis",
   "metadata": {},
   "source": [
    "#### Includes"
   ]
  },
  {
   "cell_type": "code",
   "execution_count": 1,
   "id": "structured-midwest",
   "metadata": {},
   "outputs": [],
   "source": [
    "%load_ext autoreload\n",
    "%autoreload 2"
   ]
  },
  {
   "cell_type": "code",
   "execution_count": 2,
   "id": "essential-samba",
   "metadata": {},
   "outputs": [],
   "source": [
    "import numpy as np\n",
    "from matplotlib import pyplot as plt\n",
    "import mlflow\n",
    "import pytorch_lightning as pl\n",
    "from pytorch_lightning.utilities.cloud_io import load as pl_load\n",
    "import torch\n",
    "import torch.nn.functional as F\n",
    "import altair as alt\n",
    "from altair import datum\n",
    "import pandas as pd\n",
    "\n",
    "import sys\n",
    "sys.path.insert(0, '../')"
   ]
  },
  {
   "cell_type": "code",
   "execution_count": 3,
   "id": "dynamic-contemporary",
   "metadata": {},
   "outputs": [],
   "source": [
    "from src.rot_utils import *\n",
    "from src.steered_cnn import SteerableKernelBase\n",
    "from src.model import HemelingRotNet\n",
    "from src.utils import *"
   ]
  },
  {
   "cell_type": "markdown",
   "id": "marine-minnesota",
   "metadata": {},
   "source": [
    "## Spatial Homogeneity"
   ]
  },
  {
   "cell_type": "code",
   "execution_count": 4,
   "id": "sexual-medium",
   "metadata": {},
   "outputs": [],
   "source": [
    "base = SteerableKernelBase.create_from_rk(4, max_k=5)\n",
    "K1 = torch.randn((2000,1,5,5))\n",
    "W = base.approximate_weights(K1)"
   ]
  },
  {
   "cell_type": "code",
   "execution_count": 5,
   "id": "incorrect-residence",
   "metadata": {},
   "outputs": [
    {
     "data": {
      "text/html": [
       "<div>\n",
       "<style scoped>\n",
       "    .dataframe tbody tr th:only-of-type {\n",
       "        vertical-align: middle;\n",
       "    }\n",
       "\n",
       "    .dataframe tbody tr th {\n",
       "        vertical-align: top;\n",
       "    }\n",
       "\n",
       "    .dataframe thead th {\n",
       "        text-align: right;\n",
       "    }\n",
       "</style>\n",
       "<table border=\"1\" class=\"dataframe\">\n",
       "  <thead>\n",
       "    <tr style=\"text-align: right;\">\n",
       "      <th></th>\n",
       "      <th>r</th>\n",
       "      <th>k</th>\n",
       "      <th>type</th>\n",
       "      <th>name</th>\n",
       "      <th>median</th>\n",
       "      <th>q0</th>\n",
       "      <th>-q0</th>\n",
       "      <th>q1</th>\n",
       "      <th>-q1</th>\n",
       "      <th>q2</th>\n",
       "      <th>-q2</th>\n",
       "    </tr>\n",
       "  </thead>\n",
       "  <tbody>\n",
       "    <tr>\n",
       "      <th>0</th>\n",
       "      <td>0</td>\n",
       "      <td>0</td>\n",
       "      <td>R</td>\n",
       "      <td>r=0, k=0, Real</td>\n",
       "      <td>-2.616273e+10</td>\n",
       "      <td>3.370578e+14</td>\n",
       "      <td>-1.005004e+15</td>\n",
       "      <td>9.376516e+12</td>\n",
       "      <td>-2.705028e+13</td>\n",
       "      <td>-2.616273e+10</td>\n",
       "      <td>-2.616273e+10</td>\n",
       "    </tr>\n",
       "    <tr>\n",
       "      <th>1</th>\n",
       "      <td>1</td>\n",
       "      <td>0</td>\n",
       "      <td>R</td>\n",
       "      <td>r=1, k=0, Real</td>\n",
       "      <td>-1.510002e+15</td>\n",
       "      <td>1.465747e+20</td>\n",
       "      <td>-1.232843e+20</td>\n",
       "      <td>6.546103e+18</td>\n",
       "      <td>-7.292922e+18</td>\n",
       "      <td>-1.510002e+15</td>\n",
       "      <td>-1.510002e+15</td>\n",
       "    </tr>\n",
       "    <tr>\n",
       "      <th>2</th>\n",
       "      <td>2</td>\n",
       "      <td>0</td>\n",
       "      <td>R</td>\n",
       "      <td>r=2, k=0, Real</td>\n",
       "      <td>-5.074771e+15</td>\n",
       "      <td>9.793572e+19</td>\n",
       "      <td>-1.300138e+20</td>\n",
       "      <td>7.315043e+18</td>\n",
       "      <td>-7.175789e+18</td>\n",
       "      <td>-5.074771e+15</td>\n",
       "      <td>-5.074771e+15</td>\n",
       "    </tr>\n",
       "    <tr>\n",
       "      <th>3</th>\n",
       "      <td>3</td>\n",
       "      <td>0</td>\n",
       "      <td>R</td>\n",
       "      <td>r=3, k=0, Real</td>\n",
       "      <td>3.216529e+17</td>\n",
       "      <td>1.447046e+20</td>\n",
       "      <td>-5.135521e+19</td>\n",
       "      <td>1.155132e+19</td>\n",
       "      <td>-2.034407e+18</td>\n",
       "      <td>3.216529e+17</td>\n",
       "      <td>3.216529e+17</td>\n",
       "    </tr>\n",
       "    <tr>\n",
       "      <th>4</th>\n",
       "      <td>1</td>\n",
       "      <td>1</td>\n",
       "      <td>R</td>\n",
       "      <td>r=1, k=1, Real</td>\n",
       "      <td>6.373686e+16</td>\n",
       "      <td>1.363092e+20</td>\n",
       "      <td>-1.015662e+20</td>\n",
       "      <td>1.193686e+19</td>\n",
       "      <td>-4.505166e+18</td>\n",
       "      <td>6.373686e+16</td>\n",
       "      <td>6.373686e+16</td>\n",
       "    </tr>\n",
       "    <tr>\n",
       "      <th>5</th>\n",
       "      <td>1</td>\n",
       "      <td>1</td>\n",
       "      <td>I</td>\n",
       "      <td>r=1, k=1, Imag</td>\n",
       "      <td>-4.427522e+16</td>\n",
       "      <td>1.255930e+20</td>\n",
       "      <td>-1.469077e+20</td>\n",
       "      <td>5.684619e+18</td>\n",
       "      <td>-9.868850e+18</td>\n",
       "      <td>-4.427522e+16</td>\n",
       "      <td>-4.427522e+16</td>\n",
       "    </tr>\n",
       "    <tr>\n",
       "      <th>6</th>\n",
       "      <td>2</td>\n",
       "      <td>1</td>\n",
       "      <td>R</td>\n",
       "      <td>r=2, k=1, Real</td>\n",
       "      <td>1.166473e+15</td>\n",
       "      <td>1.420302e+20</td>\n",
       "      <td>-1.648954e+20</td>\n",
       "      <td>1.020760e+19</td>\n",
       "      <td>-1.456274e+19</td>\n",
       "      <td>1.166473e+15</td>\n",
       "      <td>1.166473e+15</td>\n",
       "    </tr>\n",
       "    <tr>\n",
       "      <th>7</th>\n",
       "      <td>2</td>\n",
       "      <td>1</td>\n",
       "      <td>I</td>\n",
       "      <td>r=2, k=1, Imag</td>\n",
       "      <td>-6.261758e+16</td>\n",
       "      <td>1.223114e+20</td>\n",
       "      <td>-1.343071e+20</td>\n",
       "      <td>7.313661e+18</td>\n",
       "      <td>-1.207156e+19</td>\n",
       "      <td>-6.261758e+16</td>\n",
       "      <td>-6.261758e+16</td>\n",
       "    </tr>\n",
       "    <tr>\n",
       "      <th>8</th>\n",
       "      <td>3</td>\n",
       "      <td>1</td>\n",
       "      <td>R</td>\n",
       "      <td>r=3, k=1, Real</td>\n",
       "      <td>-4.374407e+16</td>\n",
       "      <td>8.802623e+19</td>\n",
       "      <td>-1.501024e+20</td>\n",
       "      <td>5.884565e+18</td>\n",
       "      <td>-1.169872e+19</td>\n",
       "      <td>-4.374407e+16</td>\n",
       "      <td>-4.374407e+16</td>\n",
       "    </tr>\n",
       "    <tr>\n",
       "      <th>9</th>\n",
       "      <td>3</td>\n",
       "      <td>1</td>\n",
       "      <td>I</td>\n",
       "      <td>r=3, k=1, Imag</td>\n",
       "      <td>4.294197e+17</td>\n",
       "      <td>2.070809e+20</td>\n",
       "      <td>-6.509748e+19</td>\n",
       "      <td>1.941971e+19</td>\n",
       "      <td>-3.529180e+18</td>\n",
       "      <td>4.294197e+17</td>\n",
       "      <td>4.294197e+17</td>\n",
       "    </tr>\n",
       "    <tr>\n",
       "      <th>10</th>\n",
       "      <td>1</td>\n",
       "      <td>2</td>\n",
       "      <td>R</td>\n",
       "      <td>r=1, k=2, Real</td>\n",
       "      <td>1.135070e+15</td>\n",
       "      <td>1.296776e+20</td>\n",
       "      <td>-1.036914e+20</td>\n",
       "      <td>1.047759e+19</td>\n",
       "      <td>-7.822250e+18</td>\n",
       "      <td>1.135070e+15</td>\n",
       "      <td>1.135070e+15</td>\n",
       "    </tr>\n",
       "    <tr>\n",
       "      <th>11</th>\n",
       "      <td>1</td>\n",
       "      <td>2</td>\n",
       "      <td>I</td>\n",
       "      <td>r=1, k=2, Imag</td>\n",
       "      <td>1.282692e+17</td>\n",
       "      <td>1.778762e+20</td>\n",
       "      <td>-1.108593e+20</td>\n",
       "      <td>1.315763e+19</td>\n",
       "      <td>-6.640922e+18</td>\n",
       "      <td>1.282692e+17</td>\n",
       "      <td>1.282692e+17</td>\n",
       "    </tr>\n",
       "    <tr>\n",
       "      <th>12</th>\n",
       "      <td>2</td>\n",
       "      <td>2</td>\n",
       "      <td>R</td>\n",
       "      <td>r=2, k=2, Real</td>\n",
       "      <td>-1.787245e+14</td>\n",
       "      <td>1.421997e+20</td>\n",
       "      <td>-1.114050e+20</td>\n",
       "      <td>8.227245e+18</td>\n",
       "      <td>-7.966354e+18</td>\n",
       "      <td>-1.787245e+14</td>\n",
       "      <td>-1.787245e+14</td>\n",
       "    </tr>\n",
       "    <tr>\n",
       "      <th>13</th>\n",
       "      <td>2</td>\n",
       "      <td>2</td>\n",
       "      <td>I</td>\n",
       "      <td>r=2, k=2, Imag</td>\n",
       "      <td>1.035878e+16</td>\n",
       "      <td>1.325516e+20</td>\n",
       "      <td>-1.205180e+20</td>\n",
       "      <td>9.262728e+18</td>\n",
       "      <td>-5.729741e+18</td>\n",
       "      <td>1.035878e+16</td>\n",
       "      <td>1.035878e+16</td>\n",
       "    </tr>\n",
       "    <tr>\n",
       "      <th>14</th>\n",
       "      <td>3</td>\n",
       "      <td>2</td>\n",
       "      <td>R</td>\n",
       "      <td>r=3, k=2, Real</td>\n",
       "      <td>8.513739e+14</td>\n",
       "      <td>1.460522e+20</td>\n",
       "      <td>-1.114479e+20</td>\n",
       "      <td>9.410127e+18</td>\n",
       "      <td>-7.982387e+18</td>\n",
       "      <td>8.513739e+14</td>\n",
       "      <td>8.513739e+14</td>\n",
       "    </tr>\n",
       "    <tr>\n",
       "      <th>15</th>\n",
       "      <td>3</td>\n",
       "      <td>2</td>\n",
       "      <td>I</td>\n",
       "      <td>r=3, k=2, Imag</td>\n",
       "      <td>3.933269e+16</td>\n",
       "      <td>1.492316e+20</td>\n",
       "      <td>-1.119117e+20</td>\n",
       "      <td>1.118653e+19</td>\n",
       "      <td>-5.719016e+18</td>\n",
       "      <td>3.933269e+16</td>\n",
       "      <td>3.933269e+16</td>\n",
       "    </tr>\n",
       "    <tr>\n",
       "      <th>16</th>\n",
       "      <td>2</td>\n",
       "      <td>3</td>\n",
       "      <td>R</td>\n",
       "      <td>r=2, k=3, Real</td>\n",
       "      <td>-4.778503e+16</td>\n",
       "      <td>8.619825e+19</td>\n",
       "      <td>-1.416293e+20</td>\n",
       "      <td>5.596607e+18</td>\n",
       "      <td>-1.369275e+19</td>\n",
       "      <td>-4.778503e+16</td>\n",
       "      <td>-4.778503e+16</td>\n",
       "    </tr>\n",
       "    <tr>\n",
       "      <th>17</th>\n",
       "      <td>2</td>\n",
       "      <td>3</td>\n",
       "      <td>I</td>\n",
       "      <td>r=2, k=3, Imag</td>\n",
       "      <td>-3.170485e+15</td>\n",
       "      <td>1.161009e+20</td>\n",
       "      <td>-1.063596e+20</td>\n",
       "      <td>7.336749e+18</td>\n",
       "      <td>-8.095191e+18</td>\n",
       "      <td>-3.170485e+15</td>\n",
       "      <td>-3.170485e+15</td>\n",
       "    </tr>\n",
       "    <tr>\n",
       "      <th>18</th>\n",
       "      <td>3</td>\n",
       "      <td>3</td>\n",
       "      <td>R</td>\n",
       "      <td>r=3, k=3, Real</td>\n",
       "      <td>-2.786887e+16</td>\n",
       "      <td>9.916009e+19</td>\n",
       "      <td>-1.102788e+20</td>\n",
       "      <td>4.610890e+18</td>\n",
       "      <td>-8.935586e+18</td>\n",
       "      <td>-2.786887e+16</td>\n",
       "      <td>-2.786887e+16</td>\n",
       "    </tr>\n",
       "    <tr>\n",
       "      <th>19</th>\n",
       "      <td>3</td>\n",
       "      <td>3</td>\n",
       "      <td>I</td>\n",
       "      <td>r=3, k=3, Imag</td>\n",
       "      <td>-3.269496e+16</td>\n",
       "      <td>1.101805e+20</td>\n",
       "      <td>-1.188343e+20</td>\n",
       "      <td>7.054384e+18</td>\n",
       "      <td>-1.092077e+19</td>\n",
       "      <td>-3.269496e+16</td>\n",
       "      <td>-3.269496e+16</td>\n",
       "    </tr>\n",
       "    <tr>\n",
       "      <th>20</th>\n",
       "      <td>2</td>\n",
       "      <td>4</td>\n",
       "      <td>R</td>\n",
       "      <td>r=2, k=4, Real</td>\n",
       "      <td>2.412983e+16</td>\n",
       "      <td>1.126050e+20</td>\n",
       "      <td>-8.105717e+19</td>\n",
       "      <td>1.057695e+19</td>\n",
       "      <td>-6.464191e+18</td>\n",
       "      <td>2.412983e+16</td>\n",
       "      <td>2.412983e+16</td>\n",
       "    </tr>\n",
       "    <tr>\n",
       "      <th>21</th>\n",
       "      <td>2</td>\n",
       "      <td>4</td>\n",
       "      <td>I</td>\n",
       "      <td>r=2, k=4, Imag</td>\n",
       "      <td>-1.179146e+16</td>\n",
       "      <td>1.070852e+20</td>\n",
       "      <td>-1.499644e+20</td>\n",
       "      <td>8.400700e+18</td>\n",
       "      <td>-1.248423e+19</td>\n",
       "      <td>-1.179146e+16</td>\n",
       "      <td>-1.179146e+16</td>\n",
       "    </tr>\n",
       "    <tr>\n",
       "      <th>22</th>\n",
       "      <td>3</td>\n",
       "      <td>4</td>\n",
       "      <td>R</td>\n",
       "      <td>r=3, k=4, Real</td>\n",
       "      <td>1.584446e+16</td>\n",
       "      <td>1.096445e+20</td>\n",
       "      <td>-8.167316e+19</td>\n",
       "      <td>8.132876e+18</td>\n",
       "      <td>-6.922970e+18</td>\n",
       "      <td>1.584446e+16</td>\n",
       "      <td>1.584446e+16</td>\n",
       "    </tr>\n",
       "    <tr>\n",
       "      <th>23</th>\n",
       "      <td>3</td>\n",
       "      <td>4</td>\n",
       "      <td>I</td>\n",
       "      <td>r=3, k=4, Imag</td>\n",
       "      <td>2.834895e+16</td>\n",
       "      <td>1.148773e+20</td>\n",
       "      <td>-9.557423e+19</td>\n",
       "      <td>1.088278e+19</td>\n",
       "      <td>-7.168870e+18</td>\n",
       "      <td>2.834895e+16</td>\n",
       "      <td>2.834895e+16</td>\n",
       "    </tr>\n",
       "    <tr>\n",
       "      <th>24</th>\n",
       "      <td>2</td>\n",
       "      <td>5</td>\n",
       "      <td>R</td>\n",
       "      <td>r=2, k=5, Real</td>\n",
       "      <td>8.693212e+14</td>\n",
       "      <td>9.956953e+19</td>\n",
       "      <td>-1.168166e+20</td>\n",
       "      <td>5.937239e+18</td>\n",
       "      <td>-7.460962e+18</td>\n",
       "      <td>8.693212e+14</td>\n",
       "      <td>8.693212e+14</td>\n",
       "    </tr>\n",
       "    <tr>\n",
       "      <th>25</th>\n",
       "      <td>2</td>\n",
       "      <td>5</td>\n",
       "      <td>I</td>\n",
       "      <td>r=2, k=5, Imag</td>\n",
       "      <td>5.028304e+16</td>\n",
       "      <td>7.459559e+19</td>\n",
       "      <td>-3.797840e+19</td>\n",
       "      <td>5.287928e+18</td>\n",
       "      <td>-1.562001e+18</td>\n",
       "      <td>5.028304e+16</td>\n",
       "      <td>5.028304e+16</td>\n",
       "    </tr>\n",
       "    <tr>\n",
       "      <th>26</th>\n",
       "      <td>3</td>\n",
       "      <td>5</td>\n",
       "      <td>R</td>\n",
       "      <td>r=3, k=5, Real</td>\n",
       "      <td>1.144990e+17</td>\n",
       "      <td>1.526847e+20</td>\n",
       "      <td>-1.033343e+20</td>\n",
       "      <td>1.465993e+19</td>\n",
       "      <td>-3.877580e+18</td>\n",
       "      <td>1.144990e+17</td>\n",
       "      <td>1.144990e+17</td>\n",
       "    </tr>\n",
       "    <tr>\n",
       "      <th>27</th>\n",
       "      <td>3</td>\n",
       "      <td>5</td>\n",
       "      <td>I</td>\n",
       "      <td>r=3, k=5, Imag</td>\n",
       "      <td>-1.266937e+16</td>\n",
       "      <td>8.667637e+19</td>\n",
       "      <td>-1.017146e+20</td>\n",
       "      <td>7.836449e+18</td>\n",
       "      <td>-7.102414e+18</td>\n",
       "      <td>-1.266937e+16</td>\n",
       "      <td>-1.266937e+16</td>\n",
       "    </tr>\n",
       "  </tbody>\n",
       "</table>\n",
       "</div>"
      ],
      "text/plain": [
       "    r  k type            name        median            q0           -q0  \\\n",
       "0   0  0    R  r=0, k=0, Real -2.616273e+10  3.370578e+14 -1.005004e+15   \n",
       "1   1  0    R  r=1, k=0, Real -1.510002e+15  1.465747e+20 -1.232843e+20   \n",
       "2   2  0    R  r=2, k=0, Real -5.074771e+15  9.793572e+19 -1.300138e+20   \n",
       "3   3  0    R  r=3, k=0, Real  3.216529e+17  1.447046e+20 -5.135521e+19   \n",
       "4   1  1    R  r=1, k=1, Real  6.373686e+16  1.363092e+20 -1.015662e+20   \n",
       "5   1  1    I  r=1, k=1, Imag -4.427522e+16  1.255930e+20 -1.469077e+20   \n",
       "6   2  1    R  r=2, k=1, Real  1.166473e+15  1.420302e+20 -1.648954e+20   \n",
       "7   2  1    I  r=2, k=1, Imag -6.261758e+16  1.223114e+20 -1.343071e+20   \n",
       "8   3  1    R  r=3, k=1, Real -4.374407e+16  8.802623e+19 -1.501024e+20   \n",
       "9   3  1    I  r=3, k=1, Imag  4.294197e+17  2.070809e+20 -6.509748e+19   \n",
       "10  1  2    R  r=1, k=2, Real  1.135070e+15  1.296776e+20 -1.036914e+20   \n",
       "11  1  2    I  r=1, k=2, Imag  1.282692e+17  1.778762e+20 -1.108593e+20   \n",
       "12  2  2    R  r=2, k=2, Real -1.787245e+14  1.421997e+20 -1.114050e+20   \n",
       "13  2  2    I  r=2, k=2, Imag  1.035878e+16  1.325516e+20 -1.205180e+20   \n",
       "14  3  2    R  r=3, k=2, Real  8.513739e+14  1.460522e+20 -1.114479e+20   \n",
       "15  3  2    I  r=3, k=2, Imag  3.933269e+16  1.492316e+20 -1.119117e+20   \n",
       "16  2  3    R  r=2, k=3, Real -4.778503e+16  8.619825e+19 -1.416293e+20   \n",
       "17  2  3    I  r=2, k=3, Imag -3.170485e+15  1.161009e+20 -1.063596e+20   \n",
       "18  3  3    R  r=3, k=3, Real -2.786887e+16  9.916009e+19 -1.102788e+20   \n",
       "19  3  3    I  r=3, k=3, Imag -3.269496e+16  1.101805e+20 -1.188343e+20   \n",
       "20  2  4    R  r=2, k=4, Real  2.412983e+16  1.126050e+20 -8.105717e+19   \n",
       "21  2  4    I  r=2, k=4, Imag -1.179146e+16  1.070852e+20 -1.499644e+20   \n",
       "22  3  4    R  r=3, k=4, Real  1.584446e+16  1.096445e+20 -8.167316e+19   \n",
       "23  3  4    I  r=3, k=4, Imag  2.834895e+16  1.148773e+20 -9.557423e+19   \n",
       "24  2  5    R  r=2, k=5, Real  8.693212e+14  9.956953e+19 -1.168166e+20   \n",
       "25  2  5    I  r=2, k=5, Imag  5.028304e+16  7.459559e+19 -3.797840e+19   \n",
       "26  3  5    R  r=3, k=5, Real  1.144990e+17  1.526847e+20 -1.033343e+20   \n",
       "27  3  5    I  r=3, k=5, Imag -1.266937e+16  8.667637e+19 -1.017146e+20   \n",
       "\n",
       "              q1           -q1            q2           -q2  \n",
       "0   9.376516e+12 -2.705028e+13 -2.616273e+10 -2.616273e+10  \n",
       "1   6.546103e+18 -7.292922e+18 -1.510002e+15 -1.510002e+15  \n",
       "2   7.315043e+18 -7.175789e+18 -5.074771e+15 -5.074771e+15  \n",
       "3   1.155132e+19 -2.034407e+18  3.216529e+17  3.216529e+17  \n",
       "4   1.193686e+19 -4.505166e+18  6.373686e+16  6.373686e+16  \n",
       "5   5.684619e+18 -9.868850e+18 -4.427522e+16 -4.427522e+16  \n",
       "6   1.020760e+19 -1.456274e+19  1.166473e+15  1.166473e+15  \n",
       "7   7.313661e+18 -1.207156e+19 -6.261758e+16 -6.261758e+16  \n",
       "8   5.884565e+18 -1.169872e+19 -4.374407e+16 -4.374407e+16  \n",
       "9   1.941971e+19 -3.529180e+18  4.294197e+17  4.294197e+17  \n",
       "10  1.047759e+19 -7.822250e+18  1.135070e+15  1.135070e+15  \n",
       "11  1.315763e+19 -6.640922e+18  1.282692e+17  1.282692e+17  \n",
       "12  8.227245e+18 -7.966354e+18 -1.787245e+14 -1.787245e+14  \n",
       "13  9.262728e+18 -5.729741e+18  1.035878e+16  1.035878e+16  \n",
       "14  9.410127e+18 -7.982387e+18  8.513739e+14  8.513739e+14  \n",
       "15  1.118653e+19 -5.719016e+18  3.933269e+16  3.933269e+16  \n",
       "16  5.596607e+18 -1.369275e+19 -4.778503e+16 -4.778503e+16  \n",
       "17  7.336749e+18 -8.095191e+18 -3.170485e+15 -3.170485e+15  \n",
       "18  4.610890e+18 -8.935586e+18 -2.786887e+16 -2.786887e+16  \n",
       "19  7.054384e+18 -1.092077e+19 -3.269496e+16 -3.269496e+16  \n",
       "20  1.057695e+19 -6.464191e+18  2.412983e+16  2.412983e+16  \n",
       "21  8.400700e+18 -1.248423e+19 -1.179146e+16 -1.179146e+16  \n",
       "22  8.132876e+18 -6.922970e+18  1.584446e+16  1.584446e+16  \n",
       "23  1.088278e+19 -7.168870e+18  2.834895e+16  2.834895e+16  \n",
       "24  5.937239e+18 -7.460962e+18  8.693212e+14  8.693212e+14  \n",
       "25  5.287928e+18 -1.562001e+18  5.028304e+16  5.028304e+16  \n",
       "26  1.465993e+19 -3.877580e+18  1.144990e+17  1.144990e+17  \n",
       "27  7.836449e+18 -7.102414e+18 -1.266937e+16 -1.266937e+16  "
      ]
     },
     "execution_count": 5,
     "metadata": {},
     "output_type": "execute_result"
    }
   ],
   "source": [
    "w_df = pd.DataFrame(data=base.weights_dist(W))\n",
    "w_df"
   ]
  },
  {
   "cell_type": "code",
   "execution_count": 6,
   "id": "bibliographic-foster",
   "metadata": {},
   "outputs": [
    {
     "data": {
      "application/vnd.vegalite.v3+json": {
       "$schema": "https://vega.github.io/schema/vega-lite/v3.4.0.json",
       "config": {
        "mark": {
         "tooltip": null
        },
        "view": {
         "height": 300,
         "width": 400
        }
       },
       "data": {
        "name": "data-4a751d5f79d706e0bc4f95042921a5cb"
       },
       "datasets": {
        "data-4a751d5f79d706e0bc4f95042921a5cb": [
         {
          "-q0": -1005003925880832,
          "-q1": -27050280747008,
          "-q2": -26162725888,
          "k": 0,
          "median": -26162725888,
          "name": "r=0, k=0, Real",
          "q0": 337057826209792,
          "q1": 9376515751936,
          "q2": -26162725888,
          "r": 0,
          "type": "R"
         },
         {
          "-q0": -123284298172848930000,
          "-q1": -7292922157292585000,
          "-q2": -1510002187567104,
          "k": 0,
          "median": -1510002187567104,
          "name": "r=1, k=0, Real",
          "q0": 146574672441888470000,
          "q1": 6546103004662071000,
          "q2": -1510002187567104,
          "r": 1,
          "type": "R"
         },
         {
          "-q0": -130013823906279850000,
          "-q1": -7175789396879213000,
          "-q2": -5074771221938176,
          "k": 0,
          "median": -5074771221938176,
          "name": "r=2, k=0, Real",
          "q0": 97935715102426660000,
          "q1": 7315042819414950000,
          "q2": -5074771221938176,
          "r": 2,
          "type": "R"
         },
         {
          "-q0": -51355206257882430000,
          "-q1": -2034407484197699600,
          "-q2": 321652883936247800,
          "k": 0,
          "median": 321652883936247800,
          "name": "r=3, k=0, Real",
          "q0": 144704565890762400000,
          "q1": 11551322376612348000,
          "q2": 321652883936247800,
          "r": 3,
          "type": "R"
         },
         {
          "-q0": -101566223332505810000,
          "-q1": -4505165744245309400,
          "-q2": 63736859406106620,
          "k": 1,
          "median": 63736859406106620,
          "name": "r=1, k=1, Real",
          "q0": 136309220667622950000,
          "q1": 11936857745115840000,
          "q2": 63736859406106620,
          "r": 1,
          "type": "R"
         },
         {
          "-q0": -146907694722732520000,
          "-q1": -9868849683789513000,
          "-q2": -44275215831662590,
          "k": 1,
          "median": -44275215831662590,
          "name": "r=1, k=1, Imag",
          "q0": 125593046091783210000,
          "q1": 5684619220344635000,
          "q2": -44275215831662590,
          "r": 1,
          "type": "I"
         },
         {
          "-q0": -164895350910403740000,
          "-q1": -14562739589555945000,
          "-q2": 1166473254928384,
          "k": 1,
          "median": 1166473254928384,
          "name": "r=2, k=1, Real",
          "q0": 142030192972197270000,
          "q1": 10207604405943927000,
          "q2": 1166473254928384,
          "r": 2,
          "type": "R"
         },
         {
          "-q0": -134307102352419590000,
          "-q1": -12071563724998050000,
          "-q2": -62617582338834430,
          "k": 1,
          "median": -62617582338834430,
          "name": "r=2, k=1, Imag",
          "q0": 122311397508034600000,
          "q1": 7313661351774126000,
          "q2": -62617582338834430,
          "r": 2,
          "type": "I"
         },
         {
          "-q0": -150102367538677550000,
          "-q1": -11698719469458162000,
          "-q2": -43744070111068160,
          "k": 1,
          "median": -43744070111068160,
          "name": "r=3, k=1, Real",
          "q0": 88026230217653620000,
          "q1": 5884565203697271000,
          "q2": -43744070111068160,
          "r": 3,
          "type": "R"
         },
         {
          "-q0": -65097479825431460000,
          "-q1": -3529179918522908700,
          "-q2": 429419746606186500,
          "k": 1,
          "median": 429419746606186500,
          "name": "r=3, k=1, Imag",
          "q0": 207080854493006400000,
          "q1": 19419714007756440000,
          "q2": 429419746606186500,
          "r": 3,
          "type": "I"
         },
         {
          "-q0": -103691423178345680000,
          "-q1": -7822250488245518000,
          "-q2": 1135070198890496,
          "k": 2,
          "median": 1135070198890496,
          "name": "r=1, k=2, Real",
          "q0": 129677588852459440000,
          "q1": 10477586737365254000,
          "q2": 1135070198890496,
          "r": 1,
          "type": "R"
         },
         {
          "-q0": -110859315401677860000,
          "-q1": -6640922001223451000,
          "-q2": 128269181115170820,
          "k": 2,
          "median": 128269181115170820,
          "name": "r=1, k=2, Imag",
          "q0": 177876246760578350000,
          "q1": 13157629562516930000,
          "q2": 128269181115170820,
          "r": 1,
          "type": "I"
         },
         {
          "-q0": -111404976634264030000,
          "-q1": -7966354131449283000,
          "-q2": -178724494376960,
          "k": 2,
          "median": -178724494376960,
          "name": "r=2, k=2, Real",
          "q0": 142199733267153810000,
          "q1": 8227245494573728000,
          "q2": -178724494376960,
          "r": 2,
          "type": "R"
         },
         {
          "-q0": -120518006082201710000,
          "-q1": -5729741322122691000,
          "-q2": 10358784123731968,
          "k": 2,
          "median": 10358784123731968,
          "name": "r=2, k=2, Imag",
          "q0": 132551604495326380000,
          "q1": 9262727818620436000,
          "q2": 10358784123731968,
          "r": 2,
          "type": "I"
         },
         {
          "-q0": -111447857587747290000,
          "-q1": -7982386866408129000,
          "-q2": 851373918781440,
          "k": 2,
          "median": 851373918781440,
          "name": "r=3, k=2, Real",
          "q0": 146052193312462340000,
          "q1": 9410126560733692000,
          "q2": 851373918781440,
          "r": 3,
          "type": "R"
         },
         {
          "-q0": -111911684368901340000,
          "-q1": -5719016135949550000,
          "-q2": 39332687726510080,
          "k": 2,
          "median": 39332687726510080,
          "name": "r=3, k=2, Imag",
          "q0": 149231571921665000000,
          "q1": 11186528882649990000,
          "q2": 39332687726510080,
          "r": 3,
          "type": "I"
         },
         {
          "-q0": -141629284644431070000,
          "-q1": -13692750739200279000,
          "-q2": -47785033041182720,
          "k": 3,
          "median": -47785033041182720,
          "name": "r=2, k=3, Real",
          "q0": 86198245956987650000,
          "q1": 5596606956673434000,
          "q2": -47785033041182720,
          "r": 2,
          "type": "R"
         },
         {
          "-q0": -106359623438632480000,
          "-q1": -8095190849542947000,
          "-q2": -3170484594147328,
          "k": 3,
          "median": -3170484594147328,
          "name": "r=2, k=3, Imag",
          "q0": 116100880845332550000,
          "q1": 7336749309251027000,
          "q2": -3170484594147328,
          "r": 2,
          "type": "I"
         },
         {
          "-q0": -110278788655374930000,
          "-q1": -8935586344437023000,
          "-q2": -27868873478897664,
          "k": 3,
          "median": -27868873478897664,
          "name": "r=3, k=3, Real",
          "q0": 99160085071629650000,
          "q1": 4610889662771233000,
          "q2": -27868873478897664,
          "r": 3,
          "type": "R"
         },
         {
          "-q0": -118834330523658100000,
          "-q1": -10920772111853158000,
          "-q2": -32694963946913790,
          "k": 3,
          "median": -32694963946913790,
          "name": "r=3, k=3, Imag",
          "q0": 110180476922688960000,
          "q1": 7054384140438733000,
          "q2": -32694963946913790,
          "r": 3,
          "type": "I"
         },
         {
          "-q0": -81057173677088440000,
          "-q1": -6464190694062817000,
          "-q2": 24129825274855424,
          "k": 4,
          "median": 24129825274855424,
          "name": "r=2, k=4, Real",
          "q0": 112604983624818750000,
          "q1": 10576952489385394000,
          "q2": 24129825274855424,
          "r": 2,
          "type": "R"
         },
         {
          "-q0": -149964444800089330000,
          "-q1": -12484234628158194000,
          "-q2": -11791464417722368,
          "k": 4,
          "median": -11791464417722368,
          "name": "r=2, k=4, Imag",
          "q0": 107085230744220470000,
          "q1": 8400700188364112000,
          "q2": -11791464417722368,
          "r": 2,
          "type": "I"
         },
         {
          "-q0": -81673159673387160000,
          "-q1": -6922969686053224000,
          "-q2": 15844460235587584,
          "k": 4,
          "median": 15844460235587584,
          "name": "r=3, k=4, Real",
          "q0": 109644519979729550000,
          "q1": 8132875648512295000,
          "q2": 15844460235587584,
          "r": 3,
          "type": "R"
         },
         {
          "-q0": -95574225809731220000,
          "-q1": -7168869689169281000,
          "-q2": 28348947743375360,
          "k": 4,
          "median": 28348947743375360,
          "name": "r=3, k=4, Imag",
          "q0": 114877320116687600000,
          "q1": 10882782198407102000,
          "q2": 28348947743375360,
          "r": 3,
          "type": "I"
         },
         {
          "-q0": -116816568357014730000,
          "-q1": -7460961825035649000,
          "-q2": 869321244934144,
          "k": 5,
          "median": 869321244934144,
          "name": "r=2, k=5, Real",
          "q0": 99569530007673900000,
          "q1": 5937238820054368000,
          "q2": 869321244934144,
          "r": 2,
          "type": "R"
         },
         {
          "-q0": -37978396061754980000,
          "-q1": -1562001145092636700,
          "-q2": 50283039707627520,
          "k": 5,
          "median": 50283039707627520,
          "name": "r=2, k=5, Imag",
          "q0": 74595585733207000000,
          "q1": 5287927794548867000,
          "q2": 50283039707627520,
          "r": 2,
          "type": "I"
         },
         {
          "-q0": -103334314995783570000,
          "-q1": -3877579831554081000,
          "-q2": 114499004863086600,
          "k": 5,
          "median": 114499004863086600,
          "name": "r=3, k=5, Real",
          "q0": 152684667353532730000,
          "q1": 14659930370137391000,
          "q2": 114499004863086600,
          "r": 3,
          "type": "R"
         },
         {
          "-q0": -101714560645232330000,
          "-q1": -7102414038155395000,
          "-q2": -12669370228539392,
          "k": 5,
          "median": -12669370228539392,
          "name": "r=3, k=5, Imag",
          "q0": 86676368588326040000,
          "q1": 7836448550614467000,
          "q2": -12669370228539392,
          "r": 3,
          "type": "I"
         }
        ]
       },
       "facet": {
        "field": "k",
        "type": "ordinal"
       },
       "resolve": {
        "scale": {
         "x": "independent"
        }
       },
       "spec": {
        "layer": [
         {
          "encoding": {
           "color": {
            "field": "type",
            "type": "nominal"
           },
           "x": {
            "field": "r",
            "type": "nominal"
           },
           "y": {
            "field": "median",
            "type": "quantitative"
           }
          },
          "mark": {
           "thickness": 2,
           "type": "tick",
           "width": 10,
           "xOffset": -5
          },
          "selection": {
           "selector001": {
            "bind": "scales",
            "encodings": [
             "x",
             "y"
            ],
            "type": "interval"
           }
          },
          "transform": [
           {
            "filter": "(datum.type === 'R')"
           }
          ]
         },
         {
          "encoding": {
           "color": {
            "field": "type",
            "type": "nominal"
           },
           "x": {
            "field": "r",
            "type": "nominal"
           },
           "y": {
            "field": "-q1",
            "type": "quantitative"
           },
           "y2": {
            "field": "q1"
           }
          },
          "mark": {
           "opacity": 0.2,
           "type": "bar",
           "width": 10,
           "xOffset": -5
          },
          "transform": [
           {
            "filter": "(datum.type === 'R')"
           }
          ],
          "width": 80
         },
         {
          "encoding": {
           "color": {
            "field": "type",
            "type": "nominal"
           },
           "x": {
            "field": "r",
            "type": "nominal"
           },
           "y": {
            "field": "-q2",
            "type": "quantitative"
           },
           "y2": {
            "field": "q2"
           }
          },
          "mark": {
           "opacity": 0.2,
           "type": "bar",
           "width": 10,
           "xOffset": -5
          },
          "transform": [
           {
            "filter": "(datum.type === 'R')"
           }
          ],
          "width": 80
         },
         {
          "encoding": {
           "color": {
            "field": "type",
            "type": "nominal"
           },
           "x": {
            "field": "r",
            "type": "nominal"
           },
           "y": {
            "field": "median",
            "type": "quantitative"
           }
          },
          "mark": {
           "thickness": 2,
           "type": "tick",
           "width": 10,
           "xOffset": 5
          },
          "transform": [
           {
            "filter": "(datum.type === 'I')"
           }
          ]
         },
         {
          "encoding": {
           "color": {
            "field": "type",
            "type": "nominal"
           },
           "x": {
            "field": "r",
            "type": "nominal"
           },
           "y": {
            "field": "-q1",
            "type": "quantitative"
           },
           "y2": {
            "field": "q1"
           }
          },
          "mark": {
           "opacity": 0.2,
           "type": "bar",
           "width": 10,
           "xOffset": 5
          },
          "transform": [
           {
            "filter": "(datum.type === 'I')"
           }
          ],
          "width": 80
         },
         {
          "encoding": {
           "color": {
            "field": "type",
            "type": "nominal"
           },
           "x": {
            "field": "r",
            "type": "nominal"
           },
           "y": {
            "field": "-q2",
            "type": "quantitative"
           },
           "y2": {
            "field": "q2"
           }
          },
          "mark": {
           "opacity": 0.2,
           "type": "bar",
           "width": 10,
           "xOffset": 5
          },
          "transform": [
           {
            "filter": "(datum.type === 'I')"
           }
          ],
          "width": 80
         }
        ]
       }
      },
      "image/png": "[encoded data removed]",
      "text/plain": [
       "<VegaLite 3 object>\n",
       "\n",
       "If you see this message, it means the renderer has not been properly enabled\n",
       "for the frontend that you are using. For more information, see\n",
       "https://altair-viz.github.io/user_guide/troubleshooting.html\n"
      ]
     },
     "execution_count": 6,
     "metadata": {},
     "output_type": "execute_result"
    }
   ],
   "source": [
    "chart = alt.Chart(w_df)\n",
    "layered = alt.LayerChart()\n",
    "for real in [True, False]:\n",
    "    layered += chart.mark_tick(\n",
    "                        thickness=2,\n",
    "                        width=10,\n",
    "                        xOffset=-5 if real else 5\n",
    "                    ).encode(\n",
    "                        alt.X('r:N'), alt.Y('median:Q'), \n",
    "                        alt.Color('type:N')\n",
    "                    ).transform_filter(datum.type== ('R' if real else 'I') )\n",
    "    layered += chart.mark_bar(\n",
    "                        opacity=.2, \n",
    "                        width=10, \n",
    "                        xOffset=-5 if real else 5\n",
    "                 ).encode(\n",
    "                    alt.X('r:N'), alt.Y('-q1:Q'), alt.Y2('q1:Q'), \n",
    "                    alt.Color('type:N')\n",
    "                  ).properties(width=80).transform_filter(datum.type== ('R' if real else 'I') )\n",
    "    layered += chart.mark_bar(\n",
    "                        opacity=.2, \n",
    "                        width=10, \n",
    "                        xOffset=-5 if real else 5\n",
    "                 ).encode(\n",
    "                    alt.X('r:N'), alt.Y('-q2:Q'), alt.Y2('q2:Q'), \n",
    "                    alt.Color('type:N')\n",
    "                  ).properties(width=80).transform_filter(datum.type== ('R' if real else 'I') )\n",
    "layered.facet('k:O').resolve_scale(x='independent').interactive()"
   ]
  },
  {
   "cell_type": "code",
   "execution_count": 7,
   "id": "fewer-virtue",
   "metadata": {},
   "outputs": [
    {
     "name": "stderr",
     "output_type": "stream",
     "text": [
      "/home/gaby/.conda/envs/nnet/lib/python3.7/site-packages/matplotlib/figure.py:445: UserWarning: Matplotlib is currently using module://ipykernel.pylab.backend_inline, which is a non-GUI backend, so cannot show the figure.\n",
      "  % get_backend())\n"
     ]
    },
    {
     "data": {
      "image/png": "[encoded data removed]",
      "text/plain": [
       "<Figure size 1296x360 with 1 Axes>"
      ]
     },
     "metadata": {
      "needs_background": "light"
     },
     "output_type": "display_data"
    }
   ],
   "source": [
    "h, w = 15, 15\n",
    "I = torch.zeros((1,1,h,w))\n",
    "I[0,0,h//2,w//2] = 1\n",
    "W1 = torch.ones(W.shape)\n",
    "plot_filter(base.conv2d(I, W1)[0,0])"
   ]
  },
  {
   "cell_type": "code",
   "execution_count": 8,
   "id": "played-shepherd",
   "metadata": {},
   "outputs": [
    {
     "data": {
      "text/plain": [
       "tensor(5.8699)"
      ]
     },
     "execution_count": 8,
     "metadata": {},
     "output_type": "execute_result"
    }
   ],
   "source": [
    "O = base.conv2d(I, W1)[0,0]\n",
    "O.max()"
   ]
  },
  {
   "cell_type": "markdown",
   "id": "endless-inclusion",
   "metadata": {},
   "source": [
    "## Variance conservation"
   ]
  },
  {
   "cell_type": "code",
   "execution_count": 61,
   "id": "paperback-netherlands",
   "metadata": {},
   "outputs": [],
   "source": [
    "net = HemelingRotNet(1, 1, padding='auto').cuda()"
   ]
  },
  {
   "cell_type": "code",
   "execution_count": 62,
   "id": "accessible-vault",
   "metadata": {},
   "outputs": [],
   "source": [
    "forward_tensors = {}\n",
    "backward_tensors = {}\n",
    "\n",
    "def store_forward(name):\n",
    "    def hook(self, input, output):\n",
    "        forward_tensors[name+'-in'] = input\n",
    "        forward_tensors[name+'-out'] = output\n",
    "    return hook\n",
    "\n",
    "def store_backward(name):\n",
    "    def hook(self, grad_input, grad_output):\n",
    "        backward_tensors[name+'-in'] = grad_input\n",
    "        backward_tensors[name+'-out'] = grad_output\n",
    "    return hook\n",
    "\n",
    "for i in range(1,9):\n",
    "    name = f'conv{i}'\n",
    "    getattr(net, name)[0].register_forward_hook(store_forward(name))\n",
    "    getattr(net, name)[0].register_backward_hook(store_backward(name))"
   ]
  },
  {
   "cell_type": "code",
   "execution_count": 63,
   "id": "embedded-ecuador",
   "metadata": {},
   "outputs": [],
   "source": [
    "I = torch.randn((5,1,500,500)).cuda()\n",
    "angle = (torch.rand((5,500,500)).cuda()-.5)*2*np.pi\n",
    "out = net(I, alpha=angle)\n",
    "loss = F.binary_cross_entropy_with_logits(out, torch.randint(1, (5,1,496,496)).float().cuda())\n",
    "loss.backward()"
   ]
  },
  {
   "cell_type": "code",
   "execution_count": 64,
   "id": "daily-audience",
   "metadata": {},
   "outputs": [],
   "source": [
    "data = []\n",
    "for i in range(1,9):\n",
    "    name = f'conv{i}'\n",
    "    for input in [True, False]:\n",
    "        d = {}\n",
    "        d['name'] = name\n",
    "        d['type'] = 'in' if input else 'out'\n",
    "        \n",
    "        n = name + ('-in' if input else '-out')\n",
    "        forward = forward_tensors[n][0].detach()\n",
    "        backward = backward_tensors[n][0].detach()\n",
    "        \n",
    "        mean = forward.mean().cpu().numpy()\n",
    "        std = forward.std().cpu().numpy()\n",
    "        d['forward_mean'] = mean\n",
    "        d['forward_y'] = mean-std\n",
    "        d['forward_y2'] = mean+std\n",
    "        \n",
    "        mean = backward.mean().cpu().numpy()\n",
    "        std = backward.std().cpu().numpy()\n",
    "        d['backward_mean'] = mean\n",
    "        d['backward_y'] = mean-std\n",
    "        d['backward_y2'] = mean+std\n",
    "        \n",
    "        data += [d]\n",
    "dist_df = pd.DataFrame(data=data)\n"
   ]
  },
  {
   "cell_type": "code",
   "execution_count": 66,
   "id": "interpreted-coverage",
   "metadata": {},
   "outputs": [
    {
     "data": {
      "application/vnd.vegalite.v3+json": {
       "$schema": "https://vega.github.io/schema/vega-lite/v3.4.0.json",
       "config": {
        "mark": {
         "tooltip": null
        },
        "view": {
         "height": 300,
         "width": 400
        }
       },
       "data": {
        "name": "data-ecf0c815b6aa1e42f51d85310336a3c3"
       },
       "datasets": {
        "data-ecf0c815b6aa1e42f51d85310336a3c3": [
         {
          "backward_mean": 1.4113187007946948e-10,
          "backward_y": -3.3165076729346765e-07,
          "backward_y2": 3.319330517115304e-07,
          "forward_mean": 0.0006311398465186357,
          "forward_y": -0.9989371299743652,
          "forward_y2": 1.0001994371414185,
          "name": "conv1",
          "type": "in"
         },
         {
          "backward_mean": 3.087147941796542e-12,
          "backward_y": -4.709435188487987e-07,
          "backward_y2": 4.7094971478145453e-07,
          "forward_mean": 0.3989311158657074,
          "forward_y": -0.18464121222496033,
          "forward_y2": 0.9825034141540527,
          "name": "conv1",
          "type": "out"
         },
         {
          "backward_mean": 8.460766115492291e-11,
          "backward_y": -1.0491203283891082e-07,
          "backward_y2": 1.0508124148600473e-07,
          "forward_mean": 0.917889416217804,
          "forward_y": 0.2285187840461731,
          "forward_y2": 1.60725998878479,
          "name": "conv2",
          "type": "in"
         },
         {
          "backward_mean": 1.2689828354783828e-11,
          "backward_y": -1.5892929638994246e-07,
          "backward_y2": 1.5895467697646382e-07,
          "forward_mean": 0.4043770432472229,
          "forward_y": -0.18720126152038574,
          "forward_y2": 0.9959553480148315,
          "name": "conv2",
          "type": "out"
         },
         {
          "backward_mean": -5.07086150847158e-10,
          "backward_y": -5.994169072209843e-08,
          "backward_y2": 5.8927515311779644e-08,
          "forward_mean": 0.6074401140213013,
          "forward_y": -0.09265851974487305,
          "forward_y2": 1.3075387477874756,
          "name": "conv3",
          "type": "in"
         },
         {
          "backward_mean": -3.116599686658894e-11,
          "backward_y": -8.382444605103956e-08,
          "backward_y2": 8.376211724225868e-08,
          "forward_mean": 0.3906908333301544,
          "forward_y": -0.19131597876548767,
          "forward_y2": 0.9726976156234741,
          "name": "conv3",
          "type": "out"
         },
         {
          "backward_mean": 3.406948681505817e-11,
          "backward_y": -2.955240852031693e-08,
          "backward_y2": 2.9620546015962645e-08,
          "forward_mean": 0.5207851529121399,
          "forward_y": -0.1326799988746643,
          "forward_y2": 1.1742503643035889,
          "name": "conv4",
          "type": "in"
         },
         {
          "backward_mean": -4.155221999813108e-11,
          "backward_y": -4.1198756406402026e-08,
          "backward_y2": 4.1115651328027525e-08,
          "forward_mean": 0.38891831040382385,
          "forward_y": -0.1819656789302826,
          "forward_y2": 0.9598022699356079,
          "name": "conv4",
          "type": "out"
         },
         {
          "backward_mean": 2.2220792914029452e-11,
          "backward_y": -1.3090883932420638e-08,
          "backward_y2": 1.3135324827828754e-08,
          "forward_mean": 0.5112116932868958,
          "forward_y": -0.16766458749771118,
          "forward_y2": 1.1900880336761475,
          "name": "conv5",
          "type": "in"
         },
         {
          "backward_mean": 1.1806162818206456e-11,
          "backward_y": -1.8604437101998883e-08,
          "backward_y2": 1.862804843710819e-08,
          "forward_mean": 0.41111698746681213,
          "forward_y": -0.19300422072410583,
          "forward_y2": 1.0152381658554077,
          "name": "conv5",
          "type": "out"
         },
         {
          "backward_mean": -2.394773268576955e-11,
          "backward_y": -2.0243362541805254e-08,
          "backward_y2": 2.0195468408701345e-08,
          "forward_mean": 0.1949227899312973,
          "forward_y": -0.31706225872039795,
          "forward_y2": 0.7069078683853149,
          "name": "conv6",
          "type": "in"
         },
         {
          "backward_mean": 7.532748730332273e-12,
          "backward_y": -2.8991269829248267e-08,
          "backward_y2": 2.900633688796006e-08,
          "forward_mean": 0.39708325266838074,
          "forward_y": -0.18547901511192322,
          "forward_y2": 0.9796454906463623,
          "name": "conv6",
          "type": "out"
         },
         {
          "backward_mean": -1.150771353208846e-10,
          "backward_y": -3.579025431577065e-08,
          "backward_y2": 3.55601024182306e-08,
          "forward_mean": 0.20205658674240112,
          "forward_y": -0.29173287749290466,
          "forward_y2": 0.6958460807800293,
          "name": "conv7",
          "type": "in"
         },
         {
          "backward_mean": 1.706099150844409e-11,
          "backward_y": -5.158648264114163e-08,
          "backward_y2": 5.162060290331283e-08,
          "forward_mean": 0.3745044469833374,
          "forward_y": -0.20309168100357056,
          "forward_y2": 0.9521005749702454,
          "name": "conv7",
          "type": "out"
         },
         {
          "backward_mean": 1.0636809211206355e-09,
          "backward_y": -4.093664429660748e-08,
          "backward_y2": 4.306400924747322e-08,
          "forward_mean": 0.2044895440340042,
          "forward_y": -0.2953372001647949,
          "forward_y2": 0.7043163180351257,
          "name": "conv8",
          "type": "in"
         },
         {
          "backward_mean": 2.8957603676049715e-11,
          "backward_y": -6.085122095100814e-08,
          "backward_y2": 6.090913018397259e-08,
          "forward_mean": 0.381802499294281,
          "forward_y": -0.22852802276611328,
          "forward_y2": 0.9921330213546753,
          "name": "conv8",
          "type": "out"
         }
        ]
       },
       "hconcat": [
        {
         "facet": {
          "field": "name",
          "type": "ordinal"
         },
         "resolve": {
          "scale": {
           "x": "independent"
          }
         },
         "spec": {
          "layer": [
           {
            "encoding": {
             "color": {
              "field": "type",
              "type": "nominal"
             },
             "x": {
              "field": "type",
              "type": "nominal"
             },
             "y": {
              "field": "forward_mean",
              "type": "quantitative"
             }
            },
            "mark": {
             "thickness": 2,
             "type": "tick",
             "width": 15
            },
            "selection": {
             "selector011": {
              "bind": "scales",
              "encodings": [
               "x",
               "y"
              ],
              "type": "interval"
             }
            }
           },
           {
            "encoding": {
             "color": {
              "field": "type",
              "type": "nominal"
             },
             "x": {
              "field": "type",
              "type": "nominal"
             },
             "y": {
              "field": "forward_y",
              "type": "quantitative"
             },
             "y2": {
              "field": "forward_y2"
             }
            },
            "mark": {
             "opacity": 0.2,
             "type": "bar",
             "width": 15
            },
            "width": 30
           }
          ]
         }
        },
        {
         "facet": {
          "field": "name",
          "type": "ordinal"
         },
         "resolve": {
          "scale": {
           "x": "independent"
          }
         },
         "spec": {
          "layer": [
           {
            "encoding": {
             "color": {
              "field": "type",
              "type": "nominal"
             },
             "x": {
              "field": "type",
              "type": "nominal"
             },
             "y": {
              "field": "backward_mean",
              "type": "quantitative"
             }
            },
            "mark": {
             "thickness": 2,
             "type": "tick",
             "width": 15
            },
            "selection": {
             "selector012": {
              "bind": "scales",
              "encodings": [
               "x",
               "y"
              ],
              "type": "interval"
             }
            }
           },
           {
            "encoding": {
             "color": {
              "field": "type",
              "type": "nominal"
             },
             "x": {
              "field": "type",
              "type": "nominal"
             },
             "y": {
              "field": "backward_y",
              "type": "quantitative"
             },
             "y2": {
              "field": "backward_y2"
             }
            },
            "mark": {
             "opacity": 0.2,
             "type": "bar",
             "width": 15
            },
            "width": 30
           }
          ]
         }
        }
       ]
      },
      "image/png": "[encoded data removed]",
      "text/plain": [
       "<VegaLite 3 object>\n",
       "\n",
       "If you see this message, it means the renderer has not been properly enabled\n",
       "for the frontend that you are using. For more information, see\n",
       "https://altair-viz.github.io/user_guide/troubleshooting.html\n"
      ]
     },
     "execution_count": 66,
     "metadata": {},
     "output_type": "execute_result"
    }
   ],
   "source": [
    "chart = alt.Chart(dist_df)\n",
    "def plot_dist(back=False):\n",
    "    n = 'forward_' if not back else 'backward_'\n",
    "    layered = alt.LayerChart()\n",
    "    layered += chart.mark_tick(\n",
    "                        thickness=2,\n",
    "                        width=15,\n",
    "                    ).encode(\n",
    "                        alt.X('type:N'), alt.Y(n+'mean:Q'), \n",
    "                        alt.Color('type:N')\n",
    "                    )\n",
    "    layered += chart.mark_bar(\n",
    "                        opacity=.2, \n",
    "                        width=15,\n",
    "                 ).encode(\n",
    "                    alt.X('type:N'), alt.Y(n+'y:Q'), alt.Y2(n+'y2:Q'), \n",
    "                    alt.Color('type:N')\n",
    "                  ).properties(width=30)\n",
    "    return layered.facet('name:O').resolve_scale(x='independent').interactive()\n",
    "    \n",
    "(plot_dist(False)|plot_dist(True))"
   ]
  },
  {
   "cell_type": "code",
   "execution_count": null,
   "id": "necessary-december",
   "metadata": {},
   "outputs": [],
   "source": []
  },
  {
   "cell_type": "code",
   "execution_count": null,
   "id": "banned-characterization",
   "metadata": {},
   "outputs": [],
   "source": []
  }
 ],
 "metadata": {
  "kernelspec": {
   "display_name": "Python 3",
   "language": "python",
   "name": "python3"
  },
  "language_info": {
   "codemirror_mode": {
    "name": "ipython",
    "version": 3
   },
   "file_extension": ".py",
   "mimetype": "text/x-python",
   "name": "python",
   "nbconvert_exporter": "python",
   "pygments_lexer": "ipython3",
   "version": "3.7.4"
  }
 },
 "nbformat": 4,
 "nbformat_minor": 5
}
