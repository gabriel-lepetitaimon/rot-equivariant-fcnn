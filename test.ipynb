{
 "cells": [
  {
   "cell_type": "code",
   "execution_count": 1,
   "id": "canadian-impossible",
   "metadata": {},
   "outputs": [],
   "source": [
    "%load_ext autoreload\n",
    "%autoreload 2\n"
   ]
  },
  {
   "cell_type": "code",
   "execution_count": 2,
   "id": "double-lover",
   "metadata": {},
   "outputs": [],
   "source": [
    "import numpy as np\n",
    "from matplotlib import pyplot as plt\n",
    "import mlflow\n",
    "import pytorch_lightning as pl\n",
    "from pytorch_lightning.utilities.cloud_io import load as pl_load\n"
   ]
  },
  {
   "cell_type": "code",
   "execution_count": 3,
   "id": "neither-validity",
   "metadata": {},
   "outputs": [],
   "source": [
    "from src.model import HemelingNet, HemelingRotNet\n",
    "from src.classifier_net import BinaryClassifierNet, ExportValidation\n",
    "from main_train import load_dataset, parse_config, setup_model"
   ]
  },
  {
   "cell_type": "code",
   "execution_count": null,
   "id": "collected-reminder",
   "metadata": {},
   "outputs": [],
   "source": []
  },
  {
   "cell_type": "code",
   "execution_count": 4,
   "id": "pointed-victorian",
   "metadata": {},
   "outputs": [],
   "source": [
    "EXP = '/home/gaby/These/src/Fundus/RotInvariance/2-Scripts/experiments/baseline11/'\n",
    "cfg = parse_config(EXP+'exp_config.yaml')\n",
    "trainD, validD, testD = load_dataset(cfg)"
   ]
  },
  {
   "cell_type": "code",
   "execution_count": 7,
   "id": "adaptive-bruce",
   "metadata": {},
   "outputs": [
    {
     "name": "stderr",
     "output_type": "stream",
     "text": [
      "GPU available: True, used: True\n",
      "TPU available: None, using: 0 TPU cores\n",
      "LOCAL_RANK: 0 - CUDA_VISIBLE_DEVICES: [0]\n"
     ]
    },
    {
     "data": {
      "application/vnd.jupyter.widget-view+json": {
       "model_id": "43e62b363b234988abd604f0490e79eb",
       "version_major": 2,
       "version_minor": 0
      },
      "text/plain": [
       "HBox(children=(HTML(value='Testing'), FloatProgress(value=1.0, bar_style='info', layout=Layout(flex='2'), max=…"
      ]
     },
     "metadata": {},
     "output_type": "display_data"
    },
    {
     "name": "stdout",
     "output_type": "stream",
     "text": [
      "\n",
      "--------------------------------------------------------------------------------\n",
      "DATALOADER:0 TEST RESULTS\n",
      "{'DRIVE-acc': tensor(0.7217, device='cuda:0'),\n",
      " 'DRIVE-iou': tensor(0.5060, device='cuda:0'),\n",
      " 'DRIVE-roc': tensor(0.8188, device='cuda:0')}\n",
      "--------------------------------------------------------------------------------\n"
     ]
    }
   ],
   "source": [
    "model = setup_model(cfg)\n",
    "state_dict = pl_load(EXP+cfg['experiment']['name']+'-{0:0=3d}/best-acc.ckpt'.format(25))['state_dict']\n",
    "model.load_state_dict(state_dict)\n",
    "\n",
    "model.eval()\n",
    "r = model.test({'DRIVE':validD})"
   ]
  },
  {
   "cell_type": "code",
   "execution_count": null,
   "id": "located-weight",
   "metadata": {},
   "outputs": [],
   "source": []
  },
  {
   "cell_type": "code",
   "execution_count": null,
   "id": "wired-denmark",
   "metadata": {},
   "outputs": [],
   "source": [
    "for batch in testD['DRIVE']:\n",
    "    r = model(batch['x'])\n",
    "    break"
   ]
  },
  {
   "cell_type": "code",
   "execution_count": null,
   "id": "early-yorkshire",
   "metadata": {},
   "outputs": [],
   "source": [
    "plt.imshow(r[0,0].detach())"
   ]
  },
  {
   "cell_type": "code",
   "execution_count": 6,
   "id": "bearing-absorption",
   "metadata": {},
   "outputs": [
    {
     "ename": "NameError",
     "evalue": "name 'r' is not defined",
     "output_type": "error",
     "traceback": [
      "\u001b[0;31m---------------------------------------------------------------------------\u001b[0m",
      "\u001b[0;31mNameError\u001b[0m                                 Traceback (most recent call last)",
      "\u001b[0;32m<ipython-input-6-09febc303961>\u001b[0m in \u001b[0;36m<module>\u001b[0;34m\u001b[0m\n\u001b[0;32m----> 1\u001b[0;31m \u001b[0mr\u001b[0m\u001b[0;34m[\u001b[0m\u001b[0;34m'ypred'\u001b[0m\u001b[0;34m]\u001b[0m\u001b[0;34m.\u001b[0m\u001b[0mshape\u001b[0m\u001b[0;34m\u001b[0m\u001b[0;34m\u001b[0m\u001b[0m\n\u001b[0m",
      "\u001b[0;31mNameError\u001b[0m: name 'r' is not defined"
     ]
    }
   ],
   "source": [
    "r['ypred'].shape"
   ]
  },
  {
   "cell_type": "code",
   "execution_count": null,
   "id": "nearby-mechanism",
   "metadata": {},
   "outputs": [],
   "source": []
  }
 ],
 "metadata": {
  "kernelspec": {
   "display_name": "Python 3",
   "language": "python",
   "name": "python3"
  },
  "language_info": {
   "codemirror_mode": {
    "name": "ipython",
    "version": 3
   },
   "file_extension": ".py",
   "mimetype": "text/x-python",
   "name": "python",
   "nbconvert_exporter": "python",
   "pygments_lexer": "ipython3",
   "version": "3.7.4"
  }
 },
 "nbformat": 4,
 "nbformat_minor": 5
}
