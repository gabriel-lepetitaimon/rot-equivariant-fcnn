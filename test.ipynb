{
 "cells": [
  {
   "cell_type": "code",
   "execution_count": 1,
   "id": "turned-corrections",
   "metadata": {},
   "outputs": [],
   "source": [
    "%load_ext autoreload\n",
    "%autoreload 2\n"
   ]
  },
  {
   "cell_type": "code",
   "execution_count": 2,
   "id": "quiet-slide",
   "metadata": {},
   "outputs": [],
   "source": [
    "import numpy as np\n",
    "from matplotlib import pyplot as plt\n",
    "import mlflow\n",
    "import pytorch_lightning as pl\n",
    "from pytorch_lightning.utilities.cloud_io import load as pl_load\n"
   ]
  },
  {
   "cell_type": "code",
   "execution_count": 3,
   "id": "prescribed-picking",
   "metadata": {},
   "outputs": [],
   "source": [
    "from src.model import HemelingNet, HemelingRotNet\n",
    "from src.classifier_net import BinaryClassifierNet, ExportValidation\n",
    "from run_train import load_dataset, parse_config, setup_model"
   ]
  },
  {
   "cell_type": "code",
   "execution_count": null,
   "id": "optional-store",
   "metadata": {},
   "outputs": [],
   "source": []
  },
  {
   "cell_type": "code",
   "execution_count": 17,
   "id": "heated-channels",
   "metadata": {},
   "outputs": [],
   "source": [
    "EXP = '/home/gaby/These/src/Fundus/RotInvariance/2-Scripts/experiments/baseline11/'\n",
    "cfg = parse_config(EXP+'exp_config.yaml')\n",
    "trainD, validD, testD = load_dataset(cfg)"
   ]
  },
  {
   "cell_type": "code",
   "execution_count": 14,
   "id": "charming-convenience",
   "metadata": {},
   "outputs": [],
   "source": [
    "model = setup_model(cfg.model)\n",
    "net = BinaryClassifierNet(model=model)\n",
    "state_dict = pl_load(EXP+cfg['experiment']['name']+'-{0:0=3d}/best-acc.ckpt'.format(25))['state_dict']\n",
    "net.load_state_dict(state_dict)\n",
    "net.eval()\n",
    "None"
   ]
  },
  {
   "cell_type": "code",
   "execution_count": 20,
   "id": "pregnant-collaboration",
   "metadata": {},
   "outputs": [
    {
     "name": "stderr",
     "output_type": "stream",
     "text": [
      "GPU available: True, used: True\n",
      "TPU available: None, using: 0 TPU cores\n",
      "LOCAL_RANK: 0 - CUDA_VISIBLE_DEVICES: [0]\n"
     ]
    },
    {
     "data": {
      "application/vnd.jupyter.widget-view+json": {
       "model_id": "fac497b6091443d09037ce7abe236bac",
       "version_major": 2,
       "version_minor": 0
      },
      "text/plain": [
       "HBox(children=(HTML(value='Testing'), FloatProgress(value=1.0, bar_style='info', layout=Layout(flex='2'), max=…"
      ]
     },
     "metadata": {},
     "output_type": "display_data"
    },
    {
     "name": "stdout",
     "output_type": "stream",
     "text": [
      "\n",
      "--------------------------------------------------------------------------------\n",
      "DATALOADER:0 TEST RESULTS\n",
      "{'MESSIDOR-acc/dataloader_idx_0': tensor(0.7607, device='cuda:0'),\n",
      " 'MESSIDOR-iou/dataloader_idx_0': tensor(0.5366, device='cuda:0'),\n",
      " 'MESSIDOR-roc/dataloader_idx_0': tensor(0.7918, device='cuda:0')}\n",
      "--------------------------------------------------------------------------------\n",
      "DATALOADER:1 TEST RESULTS\n",
      "{'HRF-acc/dataloader_idx_1': tensor(0.6614, device='cuda:0'),\n",
      " 'HRF-iou/dataloader_idx_1': tensor(0.4214, device='cuda:0'),\n",
      " 'HRF-roc/dataloader_idx_1': tensor(0.7580, device='cuda:0')}\n",
      "--------------------------------------------------------------------------------\n",
      "DATALOADER:2 TEST RESULTS\n",
      "{'DRIVE-acc/dataloader_idx_2': tensor(0.7131, device='cuda:0'),\n",
      " 'DRIVE-iou/dataloader_idx_2': tensor(0.4840, device='cuda:0'),\n",
      " 'DRIVE-roc/dataloader_idx_2': tensor(0.8182, device='cuda:0')}\n",
      "--------------------------------------------------------------------------------\n"
     ]
    },
    {
     "data": {
      "text/plain": [
       "[{'MESSIDOR-acc/dataloader_idx_0': 0.7607135772705078,\n",
       "  'MESSIDOR-roc/dataloader_idx_0': 0.7918192744255066,\n",
       "  'MESSIDOR-iou/dataloader_idx_0': 0.5366097092628479},\n",
       " {'HRF-acc/dataloader_idx_1': 0.6613824367523193,\n",
       "  'HRF-roc/dataloader_idx_1': 0.75798100233078,\n",
       "  'HRF-iou/dataloader_idx_1': 0.4213772118091583},\n",
       " {'DRIVE-acc/dataloader_idx_2': 0.7130728363990784,\n",
       "  'DRIVE-roc/dataloader_idx_2': 0.8181764483451843,\n",
       "  'DRIVE-iou/dataloader_idx_2': 0.4840429425239563}]"
      ]
     },
     "execution_count": 20,
     "metadata": {},
     "output_type": "execute_result"
    }
   ],
   "source": [
    "tester = pl.Trainer(gpus=[0])\n",
    "net.testset_names, data = list(zip(*testD.items()))\n",
    "tester.test(net, data)"
   ]
  },
  {
   "cell_type": "code",
   "execution_count": 8,
   "id": "colonial-discovery",
   "metadata": {},
   "outputs": [
    {
     "data": {
      "text/plain": [
       "collections.OrderedDict"
      ]
     },
     "execution_count": 8,
     "metadata": {},
     "output_type": "execute_result"
    }
   ],
   "source": []
  },
  {
   "cell_type": "code",
   "execution_count": null,
   "id": "democratic-artwork",
   "metadata": {},
   "outputs": [],
   "source": [
    "for batch in testD['DRIVE']:\n",
    "    r = model(batch['x'])\n",
    "    break"
   ]
  },
  {
   "cell_type": "code",
   "execution_count": null,
   "id": "matched-vietnam",
   "metadata": {},
   "outputs": [],
   "source": [
    "plt.imshow(r[0,0].detach())"
   ]
  },
  {
   "cell_type": "code",
   "execution_count": null,
   "id": "adapted-employer",
   "metadata": {},
   "outputs": [],
   "source": [
    "r['ypred'].shape"
   ]
  },
  {
   "cell_type": "code",
   "execution_count": null,
   "id": "oriented-jimmy",
   "metadata": {},
   "outputs": [],
   "source": [
    "print(cfg.model['rot-eq'])"
   ]
  },
  {
   "cell_type": "code",
   "execution_count": null,
   "id": "pacific-corner",
   "metadata": {},
   "outputs": [],
   "source": []
  }
 ],
 "metadata": {
  "kernelspec": {
   "display_name": "Python 3",
   "language": "python",
   "name": "python3"
  },
  "language_info": {
   "codemirror_mode": {
    "name": "ipython",
    "version": 3
   },
   "file_extension": ".py",
   "mimetype": "text/x-python",
   "name": "python",
   "nbconvert_exporter": "python",
   "pygments_lexer": "ipython3",
   "version": "3.7.4"
  }
 },
 "nbformat": 4,
 "nbformat_minor": 5
}
